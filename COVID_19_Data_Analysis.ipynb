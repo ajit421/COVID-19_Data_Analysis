{
  "nbformat": 4,
  "nbformat_minor": 0,
  "metadata": {
    "colab": {
      "provenance": [],
      "mount_file_id": "1ncFR9K3Cz9qm6WtYkbdH75K10ndrRKV_",
      "authorship_tag": "ABX9TyPJmsBYhRJgUJM40pck5v4w",
      "include_colab_link": true
    },
    "kernelspec": {
      "name": "python3",
      "display_name": "Python 3"
    },
    "language_info": {
      "name": "python"
    }
  },
  "cells": [
    {
      "cell_type": "markdown",
      "metadata": {
        "id": "view-in-github",
        "colab_type": "text"
      },
      "source": [
        "<a href=\"https://colab.research.google.com/github/ajit421/COVID-19_Data_Analysis/blob/main/COVID_19_Data_Analysis.ipynb\" target=\"_parent\"><img src=\"https://colab.research.google.com/assets/colab-badge.svg\" alt=\"Open In Colab\"/></a>"
      ]
    },
    {
      "cell_type": "code",
      "execution_count": 389,
      "metadata": {
        "id": "44KzsPoTWuJO"
      },
      "outputs": [],
      "source": [
        "# import liberary\n",
        "import pandas as pd\n",
        "import numpy as np\n",
        "import matplotlib.pyplot as plt\n"
      ]
    },
    {
      "cell_type": "markdown",
      "source": [
        "Question 1: Data Loading"
      ],
      "metadata": {
        "id": "5EJ7pgtWeT8v"
      }
    },
    {
      "cell_type": "code",
      "source": [
        "# load all csv file\n",
        "confirmed_df = pd.read_csv('covid_19_confirmed_v1.csv')\n",
        "deaths_df = pd.read_csv('covid_19_deaths_v1.csv')\n",
        "recovered_df = pd.read_csv('covid_19_recovered_v1.csv')"
      ],
      "metadata": {
        "id": "CKv_Aj6ffl1t"
      },
      "execution_count": 390,
      "outputs": []
    },
    {
      "cell_type": "markdown",
      "source": [
        "Q1.1: How do you load the COVID-19 datasets for confirmed cases, deaths, and recoveries into Python using Pandas?"
      ],
      "metadata": {
        "id": "CeZZkFNmKUSq"
      }
    },
    {
      "cell_type": "code",
      "source": [
        "print(\"Confirmed Cases:\")\n",
        "print(confirmed_df.head())\n",
        "\n",
        "print(\"\\nDeaths:\")\n",
        "print(deaths_df.head())\n",
        "\n",
        "print(\"\\nRecovered Cases:\")\n",
        "print(recovered_df.head())\n"
      ],
      "metadata": {
        "colab": {
          "base_uri": "https://localhost:8080/"
        },
        "id": "0wdDz55_eY70",
        "outputId": "f59efc16-3aa7-4df9-f691-5272760a2303"
      },
      "execution_count": 391,
      "outputs": [
        {
          "output_type": "stream",
          "name": "stdout",
          "text": [
            "Confirmed Cases:\n",
            "  Province/State Country/Region       Lat       Long  1/22/20  1/23/20  \\\n",
            "0            NaN    Afghanistan  33.93911  67.709953        0        0   \n",
            "1            NaN        Albania  41.15330  20.168300        0        0   \n",
            "2            NaN        Algeria  28.03390   1.659600        0        0   \n",
            "3            NaN        Andorra  42.50630   1.521800        0        0   \n",
            "4            NaN         Angola -11.20270  17.873900        0        0   \n",
            "\n",
            "   1/24/20  1/25/20  1/26/20  1/27/20  ...  5/20/21  5/21/21  5/22/21  \\\n",
            "0        0        0        0        0  ...    64575    65080    65486   \n",
            "1        0        0        0        0  ...   132118   132153   132176   \n",
            "2        0        0        0        0  ...   126156   126434   126651   \n",
            "3        0        0        0        0  ...    13569    13569    13569   \n",
            "4        0        0        0        0  ...    31661    31909    32149   \n",
            "\n",
            "   5/23/21  5/24/21  5/25/21  5/26/21  5/27/21  5/28/21  5/29/21  \n",
            "0    65728    66275    66903    67743    68366    69130    70111  \n",
            "1   132209   132215   132229   132244   132264   132285   132297  \n",
            "2   126860   127107   127361   127646   127926   128198   128456  \n",
            "3    13569    13569    13664    13671    13682    13693    13693  \n",
            "4    32441    32623    32933    33338    33607    33944    34180  \n",
            "\n",
            "[5 rows x 498 columns]\n",
            "\n",
            "Deaths:\n",
            "          Column1         Column2   Column3    Column4  Column5  Column6  \\\n",
            "0  Province/State  Country/Region       Lat       Long  1/22/20  1/23/20   \n",
            "1             NaN     Afghanistan  33.93911  67.709953        0        0   \n",
            "2             NaN         Albania   41.1533    20.1683        0        0   \n",
            "3             NaN         Algeria   28.0339     1.6596        0        0   \n",
            "4             NaN         Andorra   42.5063     1.5218        0        0   \n",
            "\n",
            "   Column7  Column8  Column9 Column10  ... Column489 Column490 Column491  \\\n",
            "0  1/24/20  1/25/20  1/26/20  1/27/20  ...   5/20/21   5/21/21   5/22/21   \n",
            "1        0        0        0        0  ...      2772      2782      2792   \n",
            "2        0        0        0        0  ...      2440      2441      2442   \n",
            "3        0        0        0        0  ...      3401      3405      3411   \n",
            "4        0        0        0        0  ...       127       127       127   \n",
            "\n",
            "  Column492 Column493 Column494 Column495 Column496 Column497 Column498  \n",
            "0   5/23/21   5/24/21   5/25/21   5/26/21   5/27/21   5/28/21   5/29/21  \n",
            "1      2802      2812      2836      2855      2869      2881      2899  \n",
            "2      2444      2445      2447      2447      2447      2448      2449  \n",
            "3      3418      3426      3433      3440      3448      3455      3460  \n",
            "4       127       127       127       127       127       127       127  \n",
            "\n",
            "[5 rows x 498 columns]\n",
            "\n",
            "Recovered Cases:\n",
            "          Column1         Column2   Column3    Column4  Column5  Column6  \\\n",
            "0  Province/State  Country/Region       Lat       Long  1/22/20  1/23/20   \n",
            "1             NaN     Afghanistan  33.93911  67.709953        0        0   \n",
            "2             NaN         Albania   41.1533    20.1683        0        0   \n",
            "3             NaN         Algeria   28.0339     1.6596        0        0   \n",
            "4             NaN         Andorra   42.5063     1.5218        0        0   \n",
            "\n",
            "   Column7  Column8  Column9 Column10  ... Column489 Column490 Column491  \\\n",
            "0  1/24/20  1/25/20  1/26/20  1/27/20  ...   5/20/21   5/21/21   5/22/21   \n",
            "1        0        0        0        0  ...     55687     55790     55889   \n",
            "2        0        0        0        0  ...    127869    128425    128601   \n",
            "3        0        0        0        0  ...     87902     88066     88208   \n",
            "4        0        0        0        0  ...     13234     13234     13234   \n",
            "\n",
            "  Column492 Column493 Column494 Column495 Column496 Column497 Column498  \n",
            "0   5/23/21   5/24/21   5/25/21   5/26/21   5/27/21   5/28/21   5/29/21  \n",
            "1     56035     56295     56518     56711     56962     57119     57281  \n",
            "2    128732    128826    128907    128978    129042    129097    129215  \n",
            "3     88346     88497     88672     88861     89040     89232     89419  \n",
            "4     13234     13234     13263     13381     13405     13416     13416  \n",
            "\n",
            "[5 rows x 498 columns]\n"
          ]
        }
      ]
    },
    {
      "cell_type": "markdown",
      "source": [
        "**Question 2: Data Exploration**"
      ],
      "metadata": {
        "id": "_epWf-Cpfl8T"
      }
    },
    {
      "cell_type": "markdown",
      "source": [
        "Q2.1: After loading the datasets, what is the structure of each dataset in terms of rows, columns, and data types?"
      ],
      "metadata": {
        "id": "LO8hO984KYk4"
      }
    },
    {
      "cell_type": "code",
      "source": [
        "def analyze_dataset_structure(file_path, name):\n",
        "    df = pd.read_csv(file_path)\n",
        "    print(f\"{'=' * 40}\\n{name} Dataset Info\\n{'=' * 40}\")\n",
        "    print(f\"Rows: {df.shape[0]}, Columns: {df.shape[1]}\")\n",
        "    print(\"\\nFirst Few Rows:\")\n",
        "    print(df.head())\n",
        "    print(\"\\nColumn Names and Data Types:\")\n",
        "    print(df.dtypes)\n",
        "    print(\"\\nMissing Values per Column:\")\n",
        "    print(df.isnull().sum())\n",
        "\n",
        "# Analyze each dataset\n",
        "analyze_dataset_structure('covid_19_confirmed_v1.csv', 'Confirmed Cases')\n",
        "analyze_dataset_structure('covid_19_deaths_v1.csv', 'Deaths')\n",
        "analyze_dataset_structure('covid_19_recovered_v1.csv', 'Recovered Cases')"
      ],
      "metadata": {
        "colab": {
          "base_uri": "https://localhost:8080/"
        },
        "id": "wowkWj6ggaWb",
        "outputId": "a07e29a4-58a0-47e0-815c-17ca5b02e8c2"
      },
      "execution_count": 392,
      "outputs": [
        {
          "output_type": "stream",
          "name": "stdout",
          "text": [
            "========================================\n",
            "Confirmed Cases Dataset Info\n",
            "========================================\n",
            "Rows: 276, Columns: 498\n",
            "\n",
            "First Few Rows:\n",
            "  Province/State Country/Region       Lat       Long  1/22/20  1/23/20  \\\n",
            "0            NaN    Afghanistan  33.93911  67.709953        0        0   \n",
            "1            NaN        Albania  41.15330  20.168300        0        0   \n",
            "2            NaN        Algeria  28.03390   1.659600        0        0   \n",
            "3            NaN        Andorra  42.50630   1.521800        0        0   \n",
            "4            NaN         Angola -11.20270  17.873900        0        0   \n",
            "\n",
            "   1/24/20  1/25/20  1/26/20  1/27/20  ...  5/20/21  5/21/21  5/22/21  \\\n",
            "0        0        0        0        0  ...    64575    65080    65486   \n",
            "1        0        0        0        0  ...   132118   132153   132176   \n",
            "2        0        0        0        0  ...   126156   126434   126651   \n",
            "3        0        0        0        0  ...    13569    13569    13569   \n",
            "4        0        0        0        0  ...    31661    31909    32149   \n",
            "\n",
            "   5/23/21  5/24/21  5/25/21  5/26/21  5/27/21  5/28/21  5/29/21  \n",
            "0    65728    66275    66903    67743    68366    69130    70111  \n",
            "1   132209   132215   132229   132244   132264   132285   132297  \n",
            "2   126860   127107   127361   127646   127926   128198   128456  \n",
            "3    13569    13569    13664    13671    13682    13693    13693  \n",
            "4    32441    32623    32933    33338    33607    33944    34180  \n",
            "\n",
            "[5 rows x 498 columns]\n",
            "\n",
            "Column Names and Data Types:\n",
            "Province/State     object\n",
            "Country/Region     object\n",
            "Lat               float64\n",
            "Long              float64\n",
            "1/22/20             int64\n",
            "                   ...   \n",
            "5/25/21             int64\n",
            "5/26/21             int64\n",
            "5/27/21             int64\n",
            "5/28/21             int64\n",
            "5/29/21             int64\n",
            "Length: 498, dtype: object\n",
            "\n",
            "Missing Values per Column:\n",
            "Province/State    190\n",
            "Country/Region      0\n",
            "Lat                 2\n",
            "Long                2\n",
            "1/22/20             0\n",
            "                 ... \n",
            "5/25/21             0\n",
            "5/26/21             0\n",
            "5/27/21             0\n",
            "5/28/21             0\n",
            "5/29/21             0\n",
            "Length: 498, dtype: int64\n",
            "========================================\n",
            "Deaths Dataset Info\n",
            "========================================\n",
            "Rows: 277, Columns: 498\n",
            "\n",
            "First Few Rows:\n",
            "          Column1         Column2   Column3    Column4  Column5  Column6  \\\n",
            "0  Province/State  Country/Region       Lat       Long  1/22/20  1/23/20   \n",
            "1             NaN     Afghanistan  33.93911  67.709953        0        0   \n",
            "2             NaN         Albania   41.1533    20.1683        0        0   \n",
            "3             NaN         Algeria   28.0339     1.6596        0        0   \n",
            "4             NaN         Andorra   42.5063     1.5218        0        0   \n",
            "\n",
            "   Column7  Column8  Column9 Column10  ... Column489 Column490 Column491  \\\n",
            "0  1/24/20  1/25/20  1/26/20  1/27/20  ...   5/20/21   5/21/21   5/22/21   \n",
            "1        0        0        0        0  ...      2772      2782      2792   \n",
            "2        0        0        0        0  ...      2440      2441      2442   \n",
            "3        0        0        0        0  ...      3401      3405      3411   \n",
            "4        0        0        0        0  ...       127       127       127   \n",
            "\n",
            "  Column492 Column493 Column494 Column495 Column496 Column497 Column498  \n",
            "0   5/23/21   5/24/21   5/25/21   5/26/21   5/27/21   5/28/21   5/29/21  \n",
            "1      2802      2812      2836      2855      2869      2881      2899  \n",
            "2      2444      2445      2447      2447      2447      2448      2449  \n",
            "3      3418      3426      3433      3440      3448      3455      3460  \n",
            "4       127       127       127       127       127       127       127  \n",
            "\n",
            "[5 rows x 498 columns]\n",
            "\n",
            "Column Names and Data Types:\n",
            "Column1      object\n",
            "Column2      object\n",
            "Column3      object\n",
            "Column4      object\n",
            "Column5      object\n",
            "              ...  \n",
            "Column494    object\n",
            "Column495    object\n",
            "Column496    object\n",
            "Column497    object\n",
            "Column498    object\n",
            "Length: 498, dtype: object\n",
            "\n",
            "Missing Values per Column:\n",
            "Column1      190\n",
            "Column2        0\n",
            "Column3        2\n",
            "Column4        2\n",
            "Column5        0\n",
            "            ... \n",
            "Column494      0\n",
            "Column495      0\n",
            "Column496      0\n",
            "Column497      0\n",
            "Column498      0\n",
            "Length: 498, dtype: int64\n",
            "========================================\n",
            "Recovered Cases Dataset Info\n",
            "========================================\n",
            "Rows: 262, Columns: 498\n",
            "\n",
            "First Few Rows:\n",
            "          Column1         Column2   Column3    Column4  Column5  Column6  \\\n",
            "0  Province/State  Country/Region       Lat       Long  1/22/20  1/23/20   \n",
            "1             NaN     Afghanistan  33.93911  67.709953        0        0   \n",
            "2             NaN         Albania   41.1533    20.1683        0        0   \n",
            "3             NaN         Algeria   28.0339     1.6596        0        0   \n",
            "4             NaN         Andorra   42.5063     1.5218        0        0   \n",
            "\n",
            "   Column7  Column8  Column9 Column10  ... Column489 Column490 Column491  \\\n",
            "0  1/24/20  1/25/20  1/26/20  1/27/20  ...   5/20/21   5/21/21   5/22/21   \n",
            "1        0        0        0        0  ...     55687     55790     55889   \n",
            "2        0        0        0        0  ...    127869    128425    128601   \n",
            "3        0        0        0        0  ...     87902     88066     88208   \n",
            "4        0        0        0        0  ...     13234     13234     13234   \n",
            "\n",
            "  Column492 Column493 Column494 Column495 Column496 Column497 Column498  \n",
            "0   5/23/21   5/24/21   5/25/21   5/26/21   5/27/21   5/28/21   5/29/21  \n",
            "1     56035     56295     56518     56711     56962     57119     57281  \n",
            "2    128732    128826    128907    128978    129042    129097    129215  \n",
            "3     88346     88497     88672     88861     89040     89232     89419  \n",
            "4     13234     13234     13263     13381     13405     13416     13416  \n",
            "\n",
            "[5 rows x 498 columns]\n",
            "\n",
            "Column Names and Data Types:\n",
            "Column1      object\n",
            "Column2      object\n",
            "Column3      object\n",
            "Column4      object\n",
            "Column5      object\n",
            "              ...  \n",
            "Column494    object\n",
            "Column495    object\n",
            "Column496    object\n",
            "Column497    object\n",
            "Column498    object\n",
            "Length: 498, dtype: object\n",
            "\n",
            "Missing Values per Column:\n",
            "Column1      191\n",
            "Column2        0\n",
            "Column3        1\n",
            "Column4        1\n",
            "Column5        0\n",
            "            ... \n",
            "Column494      0\n",
            "Column495      0\n",
            "Column496      0\n",
            "Column497      0\n",
            "Column498      0\n",
            "Length: 498, dtype: int64\n"
          ]
        }
      ]
    },
    {
      "cell_type": "markdown",
      "source": [
        "Q2.2: Generate plots of confirmed cases over time for the top countries."
      ],
      "metadata": {
        "id": "p-IBgyocKg6l"
      }
    },
    {
      "cell_type": "code",
      "source": [
        "# Load confirmed cases dataset\n",
        "confirmed_df = pd.read_csv('covid_19_confirmed_v1.csv')\n",
        "\n",
        "# Drop irrelevant columns\n",
        "confirmed = confirmed_df.drop(['Lat', 'Long'], axis=1)\n",
        "\n",
        "# Aggregate by country\n",
        "confirmed_country = confirmed.groupby('Country/Region').sum().reset_index()\n",
        "\n",
        "# Melt into long format\n",
        "date_cols = confirmed.columns[2:]\n",
        "confirmed_melted = confirmed_country.melt(\n",
        "    id_vars=['Country/Region'],\n",
        "    value_vars=date_cols,\n",
        "    var_name='Date',\n",
        "    value_name='Confirmed'\n",
        ")\n",
        "\n",
        "# Convert Date column to datetime\n",
        "confirmed_melted['Date'] = pd.to_datetime(confirmed_melted['Date'])\n",
        "\n",
        "# Identify top 5 countries by latest date\n",
        "latest_date = confirmed_melted['Date'].max()\n",
        "top_countries = confirmed_melted[confirmed_melted['Date'] == latest_date] \\\n",
        "                   .sort_values(by='Confirmed', ascending=False).head(5)['Country/Region'].tolist()\n",
        "\n",
        "# Filter data for top countries\n",
        "top_confirmed = confirmed_melted[confirmed_melted['Country/Region'].isin(top_countries)]\n",
        "\n",
        "# Plotting\n",
        "plt.figure(figsize=(14, 8))\n",
        "for country in top_countries:\n",
        "    country_data = top_confirmed[top_confirmed['Country/Region'] == country]\n",
        "    plt.plot(country_data['Date'], country_data['Confirmed'], label=country, marker='o', linestyle='-')\n",
        "\n",
        "plt.title(\"Top 5 Countries - Cumulative Confirmed Cases Over Time\")\n",
        "plt.xlabel(\"Date\")\n",
        "plt.ylabel(\"Cumulative Confirmed Cases\")\n",
        "plt.legend()\n",
        "plt.grid(True)\n",
        "plt.xticks(rotation=45)\n",
        "plt.tight_layout()\n",
        "plt.show()"
      ],
      "metadata": {
        "colab": {
          "base_uri": "https://localhost:8080/",
          "height": 652
        },
        "id": "sk54ibjkneHB",
        "outputId": "7fa84daa-3849-4194-d73e-e31a9d1e3e1b"
      },
      "execution_count": 393,
      "outputs": [
        {
          "output_type": "stream",
          "name": "stderr",
          "text": [
            "<ipython-input-393-41caf0454cf9>:20: UserWarning: Could not infer format, so each element will be parsed individually, falling back to `dateutil`. To ensure parsing is consistent and as-expected, please specify a format.\n",
            "  confirmed_melted['Date'] = pd.to_datetime(confirmed_melted['Date'])\n"
          ]
        },
        {
          "output_type": "display_data",
          "data": {
            "text/plain": [
              "<Figure size 1400x800 with 1 Axes>"
            ],
            "image/png": "[encoded data removed]"
          },
          "metadata": {}
        }
      ]
    },
    {
      "cell_type": "markdown",
      "source": [
        "Q2.3: Generate plots of confirmed cases over time for China."
      ],
      "metadata": {
        "id": "M10-bPhBKxXO"
      }
    },
    {
      "cell_type": "code",
      "source": [
        "\n",
        "# Drop irrelevant columns\n",
        "confirmed = confirmed_df.drop(['Lat', 'Long'], axis=1)\n",
        "\n",
        "# Aggregate by country\n",
        "confirmed_country = confirmed.groupby('Country/Region').sum().reset_index()\n",
        "\n",
        "# Melt into long format\n",
        "date_cols = confirmed.columns[2:]\n",
        "confirmed_melted = confirmed_country.melt(\n",
        "    id_vars=['Country/Region'],\n",
        "    value_vars=date_cols,\n",
        "    var_name='Date',\n",
        "    value_name='Confirmed'\n",
        ")\n",
        "\n",
        "# Convert Date column to datetime\n",
        "confirmed_melted['Date'] = pd.to_datetime(confirmed_melted['Date'])\n",
        "\n",
        "# Filter for China\n",
        "china_data = confirmed_melted[confirmed_melted['Country/Region'] == 'China']\n",
        "\n",
        "# Plotting\n",
        "plt.figure(figsize=(12, 6))\n",
        "plt.plot(china_data['Date'], china_data['Confirmed'], color='red', marker='o', linestyle='-')\n",
        "plt.title(\"Cumulative Confirmed Cases in China Over Time\")\n",
        "plt.xlabel(\"Date\")\n",
        "plt.ylabel(\"Cumulative Confirmed Cases\")\n",
        "plt.grid(True)\n",
        "plt.xticks(rotation=45)\n",
        "plt.tight_layout()\n",
        "plt.show()"
      ],
      "metadata": {
        "colab": {
          "base_uri": "https://localhost:8080/",
          "height": 578
        },
        "id": "keUvGEsOnufo",
        "outputId": "197f382c-f705-435a-a87a-c8683f8b7d6c"
      },
      "execution_count": 394,
      "outputs": [
        {
          "output_type": "stream",
          "name": "stderr",
          "text": [
            "<ipython-input-394-064f4e6ecc64>:17: UserWarning: Could not infer format, so each element will be parsed individually, falling back to `dateutil`. To ensure parsing is consistent and as-expected, please specify a format.\n",
            "  confirmed_melted['Date'] = pd.to_datetime(confirmed_melted['Date'])\n"
          ]
        },
        {
          "output_type": "display_data",
          "data": {
            "text/plain": [
              "<Figure size 1200x600 with 1 Axes>"
            ],
            "image/png": "[encoded data removed]"
          },
          "metadata": {}
        }
      ]
    },
    {
      "cell_type": "markdown",
      "source": [
        "Question 3: Handling Missing Data"
      ],
      "metadata": {
        "id": "EVc01CK6qqRy"
      }
    },
    {
      "cell_type": "markdown",
      "source": [
        "Q3.1: Identify these missing values and replace them using a suitable imputation method, such as forward filling, for time-series data."
      ],
      "metadata": {
        "id": "315cA_YQK1vz"
      }
    },
    {
      "cell_type": "code",
      "source": [
        "# Display basic information about missing values\n",
        "print(\"Initial Missing Values:\\n\", confirmed_df.isnull().sum())\n",
        "\n",
        "\n",
        "# Exclude metadata columns\n",
        "date_cols = confirmed_df.columns[4:]  # Assuming the first 4 columns are metadata\n",
        "\n",
        "# Set metadata as the index to focus on time-series data\n",
        "confirmed_filled = confirmed_df.set_index(['Province/State', 'Country/Region', 'Lat', 'Long'])\n",
        "\n",
        "# Apply forward fill along the time-series axis (column-wise)\n",
        "confirmed_filled = confirmed_filled.fillna(method='ffill', axis=1)\n",
        "\n",
        "# Reset the index to restore the original DataFrame structure\n",
        "confirmed_filled = confirmed_filled.reset_index()\n",
        "\n",
        "# Check for remaining missing values\n",
        "print(\"\\nRemaining Missing Values After Forward Fill:\\n\", confirmed_filled.isnull().sum())\n",
        "\n",
        "# Replace any remaining NaNs with 0\n",
        "confirmed_filled[date_cols] = confirmed_filled[date_cols].fillna(0)\n",
        "\n",
        "\n"
      ],
      "metadata": {
        "colab": {
          "base_uri": "https://localhost:8080/"
        },
        "id": "wKQ1i5UxsJHN",
        "outputId": "7e23f4d6-5ca9-4c7d-e302-5314a27850f6"
      },
      "execution_count": 395,
      "outputs": [
        {
          "output_type": "stream",
          "name": "stdout",
          "text": [
            "Initial Missing Values:\n",
            " Province/State    190\n",
            "Country/Region      0\n",
            "Lat                 2\n",
            "Long                2\n",
            "1/22/20             0\n",
            "                 ... \n",
            "5/25/21             0\n",
            "5/26/21             0\n",
            "5/27/21             0\n",
            "5/28/21             0\n",
            "5/29/21             0\n",
            "Length: 498, dtype: int64\n",
            "\n",
            "Remaining Missing Values After Forward Fill:\n",
            " Province/State    190\n",
            "Country/Region      0\n",
            "Lat                 2\n",
            "Long                2\n",
            "1/22/20             0\n",
            "                 ... \n",
            "5/25/21             0\n",
            "5/26/21             0\n",
            "5/27/21             0\n",
            "5/28/21             0\n",
            "5/29/21             0\n",
            "Length: 498, dtype: int64\n"
          ]
        },
        {
          "output_type": "stream",
          "name": "stderr",
          "text": [
            "<ipython-input-395-40fb3155eae7>:12: FutureWarning: DataFrame.fillna with 'method' is deprecated and will raise in a future version. Use obj.ffill() or obj.bfill() instead.\n",
            "  confirmed_filled = confirmed_filled.fillna(method='ffill', axis=1)\n"
          ]
        }
      ]
    },
    {
      "cell_type": "markdown",
      "source": [
        "Question 4: Data Cleaning and Preparation\n"
      ],
      "metadata": {
        "id": "x5KKRX9xrSt-"
      }
    },
    {
      "cell_type": "markdown",
      "source": [
        "Q4.1: Replace blank values in the province column with “All Provinces.”"
      ],
      "metadata": {
        "id": "db2WDD18K6DU"
      }
    },
    {
      "cell_type": "code",
      "source": [
        "# Load the dataset\n",
        "df = pd.read_csv('covid_19_confirmed_v1.csv')\n",
        "\n",
        "# Count the number of missing values\n",
        "missing_values = df['Province/State'].isnull().sum()\n",
        "print(f\"Number of missing values in 'Province/State': {missing_values}\")\n",
        "\n",
        "# Replace empty strings and missing values with \"All Provinces\"\n",
        "df['Province/State'] = df['Province/State'].replace('', 'All Provinces').fillna('All Provinces')\n",
        "\n",
        "# Check the first few rows to confirm the changes\n",
        "print(\"Sample of 'Province/State' column after cleaning:\")\n",
        "print(df[['Province/State', 'Country/Region']].head(10))\n",
        "\n",
        "# Confirm that there are no remaining missing values\n",
        "remaining_missing = df['Province/State'].isnull().sum()\n",
        "print(f\"\\nRemaining missing values after replacement: {remaining_missing}\")"
      ],
      "metadata": {
        "colab": {
          "base_uri": "https://localhost:8080/"
        },
        "id": "l0asrOkKsyHj",
        "outputId": "227d101e-f87e-45ac-ec95-fe0b91324bb6"
      },
      "execution_count": 396,
      "outputs": [
        {
          "output_type": "stream",
          "name": "stdout",
          "text": [
            "Number of missing values in 'Province/State': 190\n",
            "Sample of 'Province/State' column after cleaning:\n",
            "                 Province/State       Country/Region\n",
            "0                 All Provinces          Afghanistan\n",
            "1                 All Provinces              Albania\n",
            "2                 All Provinces              Algeria\n",
            "3                 All Provinces              Andorra\n",
            "4                 All Provinces               Angola\n",
            "5                 All Provinces  Antigua and Barbuda\n",
            "6                 All Provinces            Argentina\n",
            "7                 All Provinces              Armenia\n",
            "8  Australian Capital Territory            Australia\n",
            "9               New South Wales            Australia\n",
            "\n",
            "Remaining missing values after replacement: 0\n"
          ]
        }
      ]
    },
    {
      "cell_type": "markdown",
      "source": [
        "Question 5: Independent Dataset Analysis"
      ],
      "metadata": {
        "id": "eJ8NybMxveJa"
      }
    },
    {
      "cell_type": "markdown",
      "source": [
        "Q5.1: Analyze the peak number of daily new cases in Germany, France, and Italy. Which country experienced the highest single-day surge, and when did it occur?"
      ],
      "metadata": {
        "id": "i1SfxAcvK-al"
      }
    },
    {
      "cell_type": "code",
      "source": [
        "# Select the relevant countries and drop unnecessary columns\n",
        "countries = ['Germany', 'France', 'Italy']\n",
        "confirmed_countries = confirmed_filled[confirmed_filled['Country/Region'].isin(countries)].drop(columns=['Province/State', 'Lat', 'Long'])\n",
        "\n",
        "# Group by country and sum up cases across different provinces/states within each country\n",
        "confirmed_countries_agg = confirmed_countries.groupby('Country/Region').sum()\n",
        "\n",
        "# Transpose the DataFrame so dates are rows and countries are columns\n",
        "confirmed_countries_agg_T = confirmed_countries_agg.T\n",
        "\n",
        "# Calculate daily new cases\n",
        "daily_new_cases = confirmed_countries_agg_T.diff().fillna(0)\n",
        "\n",
        "# Convert column names to datetime objects for easier handling\n",
        "daily_new_cases.index = pd.to_datetime(daily_new_cases.index)\n",
        "\n",
        "# Find the peak daily new cases for each country\n",
        "peak_cases = daily_new_cases.max()\n",
        "peak_dates = daily_new_cases.idxmax()\n",
        "\n",
        "print(\"Peak daily new cases and dates for Germany, France, and Italy:\")\n",
        "for country in countries:\n",
        "    print(f\"{country}: Peak Cases = {int(peak_cases[country])}, Date = {peak_dates[country].strftime('%Y-%m-%d')}\")\n",
        "\n",
        "# Find the country with the highest single-day surge\n",
        "highest_surge_country = peak_cases.idxmax()\n",
        "highest_surge_cases = peak_cases.max()\n",
        "highest_surge_date = peak_dates[highest_surge_country]\n",
        "\n",
        "print(f\"\\nCountry with the highest single-day surge: {highest_surge_country}\")\n",
        "print(f\"Highest surge cases: {int(highest_surge_cases)}\")\n",
        "print(f\"Date of highest surge: {highest_surge_date.strftime('%Y-%m-%d')}\")"
      ],
      "metadata": {
        "colab": {
          "base_uri": "https://localhost:8080/"
        },
        "id": "_iPc5iLdzIru",
        "outputId": "8954d4d2-4d21-4a1a-d67d-7526ec98bc63"
      },
      "execution_count": 397,
      "outputs": [
        {
          "output_type": "stream",
          "name": "stdout",
          "text": [
            "Peak daily new cases and dates for Germany, France, and Italy:\n",
            "Germany: Peak Cases = 49044, Date = 2020-12-30\n",
            "France: Peak Cases = 117900, Date = 2021-04-11\n",
            "Italy: Peak Cases = 40902, Date = 2020-11-13\n",
            "\n",
            "Country with the highest single-day surge: France\n",
            "Highest surge cases: 117900\n",
            "Date of highest surge: 2021-04-11\n"
          ]
        },
        {
          "output_type": "stream",
          "name": "stderr",
          "text": [
            "<ipython-input-397-ee07e75aa952>:17: UserWarning: Could not infer format, so each element will be parsed individually, falling back to `dateutil`. To ensure parsing is consistent and as-expected, please specify a format.\n",
            "  daily_new_cases.index = pd.to_datetime(daily_new_cases.index)\n"
          ]
        }
      ]
    },
    {
      "cell_type": "markdown",
      "source": [
        "Q5.2: Compare the recovery rates (recoveries/confirmed cases) between Canada and Australia as of December 31, 2020. Which country showed better management of the pandemic according to this metric"
      ],
      "metadata": {
        "id": "qSTcT_AULBfh"
      }
    },
    {
      "cell_type": "code",
      "source": [
        "# Load the dataset\n",
        "confirmed_df = pd.read_csv('covid_19_confirmed_v1.csv')\n",
        "\n",
        "# Print the column names\n",
        "print(\"Columns in the DataFrame:\")\n",
        "print(confirmed_df.columns.tolist())\n",
        "\n",
        "# Find the country column dynamically\n",
        "country_col = [col for col in confirmed_df.columns if 'country' in col.lower()]\n",
        "if country_col:\n",
        "    confirmed_df = confirmed_df.rename(columns={country_col[0]: 'Country/Region'})\n",
        "else:\n",
        "    print(\"No country column found.\")\n",
        "\n",
        "# Check if 'Country/Region' still exists after preprocessing\n",
        "if 'Country/Region' not in confirmed_df.columns:\n",
        "    print(\"Error: 'Country/Region' column is missing.\")\n",
        "else:\n",
        "    print(\"'Country/Region' column exists.\")\n",
        "\n",
        "\n",
        "# Load the dataset\n",
        "confirmed_df = pd.read_csv('covid_19_confirmed_v1.csv')\n",
        "\n",
        "# Inspect columns\n",
        "print(\"Columns:\", confirmed_df.columns.tolist())\n",
        "\n",
        "# Drop unnecessary columns\n",
        "confirmed_df = confirmed_df.drop(['Lat', 'Long'], axis=1)\n",
        "\n",
        "# Identify date columns\n",
        "date_cols = confirmed_df.columns[2:]\n",
        "\n",
        "# Group by 'Country/Region'\n",
        "confirmed_country = confirmed_df.groupby('Country/Region')[date_cols].sum().reset_index()\n",
        "\n",
        "# Melt into long format\n",
        "melted = confirmed_country.melt(\n",
        "    id_vars='Country/Region',\n",
        "    value_vars=date_cols,\n",
        "    var_name='Date',\n",
        "    value_name='Confirmed'\n",
        ")\n",
        "\n",
        "# Convert Date to datetime\n",
        "melted['Date'] = pd.to_datetime(melted['Date'])\n",
        "\n",
        "# Compute daily new cases\n",
        "melted['Daily_New_Cases'] = melted.groupby('Country/Region')['Confirmed'].diff().fillna(0).astype(int)\n",
        "\n",
        "# Pivot back to wide format\n",
        "pivoted = melted.pivot(index='Date', columns='Country/Region', values='Daily_New_Cases').fillna(0)\n",
        "\n",
        "# Display the result\n",
        "print(pivoted.tail())"
      ],
      "metadata": {
        "colab": {
          "base_uri": "https://localhost:8080/"
        },
        "id": "Z_quoaCiuFk8",
        "outputId": "6dfe94d5-84bd-4c41-af02-1d1b10e2e110"
      },
      "execution_count": 398,
      "outputs": [
        {
          "output_type": "stream",
          "name": "stdout",
          "text": [
            "Columns in the DataFrame:\n",
            "['Province/State', 'Country/Region', 'Lat', 'Long', '1/22/20', '1/23/20', '1/24/20', '1/25/20', '1/26/20', '1/27/20', '1/28/20', '1/29/20', '1/30/20', '1/31/20', '2/1/20', '2/2/20', '2/3/20', '2/4/20', '2/5/20', '2/6/20', '2/7/20', '2/8/20', '2/9/20', '2/10/20', '2/11/20', '2/12/20', '2/13/20', '2/14/20', '2/15/20', '2/16/20', '2/17/20', '2/18/20', '2/19/20', '2/20/20', '2/21/20', '2/22/20', '2/23/20', '2/24/20', '2/25/20', '2/26/20', '2/27/20', '2/28/20', '2/29/20', '3/1/20', '3/2/20', '3/3/20', '3/4/20', '3/5/20', '3/6/20', '3/7/20', '3/8/20', '3/9/20', '3/10/20', '3/11/20', '3/12/20', '3/13/20', '3/14/20', '3/15/20', '3/16/20', '3/17/20', '3/18/20', '3/19/20', '3/20/20', '3/21/20', '3/22/20', '3/23/20', '3/24/20', '3/25/20', '3/26/20', '3/27/20', '3/28/20', '3/29/20', '3/30/20', '3/31/20', '4/1/20', '4/2/20', '4/3/20', '4/4/20', '4/5/20', '4/6/20', '4/7/20', '4/8/20', '4/9/20', '4/10/20', '4/11/20', '4/12/20', '4/13/20', '4/14/20', '4/15/20', '4/16/20', '4/17/20', '4/18/20', '4/19/20', '4/20/20', '4/21/20', '4/22/20', '4/23/20', '4/24/20', '4/25/20', '4/26/20', '4/27/20', '4/28/20', '4/29/20', '4/30/20', '5/1/20', '5/2/20', '5/3/20', '5/4/20', '5/5/20', '5/6/20', '5/7/20', '5/8/20', '5/9/20', '5/10/20', '5/11/20', '5/12/20', '5/13/20', '5/14/20', '5/15/20', '5/16/20', '5/17/20', '5/18/20', '5/19/20', '5/20/20', '5/21/20', '5/22/20', '5/23/20', '5/24/20', '5/25/20', '5/26/20', '5/27/20', '5/28/20', '5/29/20', '5/30/20', '5/31/20', '6/1/20', '6/2/20', '6/3/20', '6/4/20', '6/5/20', '6/6/20', '6/7/20', '6/8/20', '6/9/20', '6/10/20', '6/11/20', '6/12/20', '6/13/20', '6/14/20', '6/15/20', '6/16/20', '6/17/20', '6/18/20', '6/19/20', '6/20/20', '6/21/20', '6/22/20', '6/23/20', '6/24/20', '6/25/20', '6/26/20', '6/27/20', '6/28/20', '6/29/20', '6/30/20', '7/1/20', '7/2/20', '7/3/20', '7/4/20', '7/5/20', '7/6/20', '7/7/20', '7/8/20', '7/9/20', '7/10/20', '7/11/20', '7/12/20', '7/13/20', '7/14/20', '7/15/20', '7/16/20', '7/17/20', '7/18/20', '7/19/20', '7/20/20', '7/21/20', '7/22/20', '7/23/20', '7/24/20', '7/25/20', '7/26/20', '7/27/20', '7/28/20', '7/29/20', '7/30/20', '7/31/20', '8/1/20', '8/2/20', '8/3/20', '8/4/20', '8/5/20', '8/6/20', '8/7/20', '8/8/20', '8/9/20', '8/10/20', '8/11/20', '8/12/20', '8/13/20', '8/14/20', '8/15/20', '8/16/20', '8/17/20', '8/18/20', '8/19/20', '8/20/20', '8/21/20', '8/22/20', '8/23/20', '8/24/20', '8/25/20', '8/26/20', '8/27/20', '8/28/20', '8/29/20', '8/30/20', '8/31/20', '9/1/20', '9/2/20', '9/3/20', '9/4/20', '9/5/20', '9/6/20', '9/7/20', '9/8/20', '9/9/20', '9/10/20', '9/11/20', '9/12/20', '9/13/20', '9/14/20', '9/15/20', '9/16/20', '9/17/20', '9/18/20', '9/19/20', '9/20/20', '9/21/20', '9/22/20', '9/23/20', '9/24/20', '9/25/20', '9/26/20', '9/27/20', '9/28/20', '9/29/20', '9/30/20', '10/1/20', '10/2/20', '10/3/20', '10/4/20', '10/5/20', '10/6/20', '10/7/20', '10/8/20', '10/9/20', '10/10/20', '10/11/20', '10/12/20', '10/13/20', '10/14/20', '10/15/20', '10/16/20', '10/17/20', '10/18/20', '10/19/20', '10/20/20', '10/21/20', '10/22/20', '10/23/20', '10/24/20', '10/25/20', '10/26/20', '10/27/20', '10/28/20', '10/29/20', '10/30/20', '10/31/20', '11/1/20', '11/2/20', '11/3/20', '11/4/20', '11/5/20', '11/6/20', '11/7/20', '11/8/20', '11/9/20', '11/10/20', '11/11/20', '11/12/20', '11/13/20', '11/14/20', '11/15/20', '11/16/20', '11/17/20', '11/18/20', '11/19/20', '11/20/20', '11/21/20', '11/22/20', '11/23/20', '11/24/20', '11/25/20', '11/26/20', '11/27/20', '11/28/20', '11/29/20', '11/30/20', '12/1/20', '12/2/20', '12/3/20', '12/4/20', '12/5/20', '12/6/20', '12/7/20', '12/8/20', '12/9/20', '12/10/20', '12/11/20', '12/12/20', '12/13/20', '12/14/20', '12/15/20', '12/16/20', '12/17/20', '12/18/20', '12/19/20', '12/20/20', '12/21/20', '12/22/20', '12/23/20', '12/24/20', '12/25/20', '12/26/20', '12/27/20', '12/28/20', '12/29/20', '12/30/20', '12/31/20', '1/1/21', '1/2/21', '1/3/21', '1/4/21', '1/5/21', '1/6/21', '1/7/21', '1/8/21', '1/9/21', '1/10/21', '1/11/21', '1/12/21', '1/13/21', '1/14/21', '1/15/21', '1/16/21', '1/17/21', '1/18/21', '1/19/21', '1/20/21', '1/21/21', '1/22/21', '1/23/21', '1/24/21', '1/25/21', '1/26/21', '1/27/21', '1/28/21', '1/29/21', '1/30/21', '1/31/21', '2/1/21', '2/2/21', '2/3/21', '2/4/21', '2/5/21', '2/6/21', '2/7/21', '2/8/21', '2/9/21', '2/10/21', '2/11/21', '2/12/21', '2/13/21', '2/14/21', '2/15/21', '2/16/21', '2/17/21', '2/18/21', '2/19/21', '2/20/21', '2/21/21', '2/22/21', '2/23/21', '2/24/21', '2/25/21', '2/26/21', '2/27/21', '2/28/21', '3/1/21', '3/2/21', '3/3/21', '3/4/21', '3/5/21', '3/6/21', '3/7/21', '3/8/21', '3/9/21', '3/10/21', '3/11/21', '3/12/21', '3/13/21', '3/14/21', '3/15/21', '3/16/21', '3/17/21', '3/18/21', '3/19/21', '3/20/21', '3/21/21', '3/22/21', '3/23/21', '3/24/21', '3/25/21', '3/26/21', '3/27/21', '3/28/21', '3/29/21', '3/30/21', '3/31/21', '4/1/21', '4/2/21', '4/3/21', '4/4/21', '4/5/21', '4/6/21', '4/7/21', '4/8/21', '4/9/21', '4/10/21', '4/11/21', '4/12/21', '4/13/21', '4/14/21', '4/15/21', '4/16/21', '4/17/21', '4/18/21', '4/19/21', '4/20/21', '4/21/21', '4/22/21', '4/23/21', '4/24/21', '4/25/21', '4/26/21', '4/27/21', '4/28/21', '4/29/21', '4/30/21', '5/1/21', '5/2/21', '5/3/21', '5/4/21', '5/5/21', '5/6/21', '5/7/21', '5/8/21', '5/9/21', '5/10/21', '5/11/21', '5/12/21', '5/13/21', '5/14/21', '5/15/21', '5/16/21', '5/17/21', '5/18/21', '5/19/21', '5/20/21', '5/21/21', '5/22/21', '5/23/21', '5/24/21', '5/25/21', '5/26/21', '5/27/21', '5/28/21', '5/29/21']\n",
            "'Country/Region' column exists.\n",
            "Columns: ['Province/State', 'Country/Region', 'Lat', 'Long', '1/22/20', '1/23/20', '1/24/20', '1/25/20', '1/26/20', '1/27/20', '1/28/20', '1/29/20', '1/30/20', '1/31/20', '2/1/20', '2/2/20', '2/3/20', '2/4/20', '2/5/20', '2/6/20', '2/7/20', '2/8/20', '2/9/20', '2/10/20', '2/11/20', '2/12/20', '2/13/20', '2/14/20', '2/15/20', '2/16/20', '2/17/20', '2/18/20', '2/19/20', '2/20/20', '2/21/20', '2/22/20', '2/23/20', '2/24/20', '2/25/20', '2/26/20', '2/27/20', '2/28/20', '2/29/20', '3/1/20', '3/2/20', '3/3/20', '3/4/20', '3/5/20', '3/6/20', '3/7/20', '3/8/20', '3/9/20', '3/10/20', '3/11/20', '3/12/20', '3/13/20', '3/14/20', '3/15/20', '3/16/20', '3/17/20', '3/18/20', '3/19/20', '3/20/20', '3/21/20', '3/22/20', '3/23/20', '3/24/20', '3/25/20', '3/26/20', '3/27/20', '3/28/20', '3/29/20', '3/30/20', '3/31/20', '4/1/20', '4/2/20', '4/3/20', '4/4/20', '4/5/20', '4/6/20', '4/7/20', '4/8/20', '4/9/20', '4/10/20', '4/11/20', '4/12/20', '4/13/20', '4/14/20', '4/15/20', '4/16/20', '4/17/20', '4/18/20', '4/19/20', '4/20/20', '4/21/20', '4/22/20', '4/23/20', '4/24/20', '4/25/20', '4/26/20', '4/27/20', '4/28/20', '4/29/20', '4/30/20', '5/1/20', '5/2/20', '5/3/20', '5/4/20', '5/5/20', '5/6/20', '5/7/20', '5/8/20', '5/9/20', '5/10/20', '5/11/20', '5/12/20', '5/13/20', '5/14/20', '5/15/20', '5/16/20', '5/17/20', '5/18/20', '5/19/20', '5/20/20', '5/21/20', '5/22/20', '5/23/20', '5/24/20', '5/25/20', '5/26/20', '5/27/20', '5/28/20', '5/29/20', '5/30/20', '5/31/20', '6/1/20', '6/2/20', '6/3/20', '6/4/20', '6/5/20', '6/6/20', '6/7/20', '6/8/20', '6/9/20', '6/10/20', '6/11/20', '6/12/20', '6/13/20', '6/14/20', '6/15/20', '6/16/20', '6/17/20', '6/18/20', '6/19/20', '6/20/20', '6/21/20', '6/22/20', '6/23/20', '6/24/20', '6/25/20', '6/26/20', '6/27/20', '6/28/20', '6/29/20', '6/30/20', '7/1/20', '7/2/20', '7/3/20', '7/4/20', '7/5/20', '7/6/20', '7/7/20', '7/8/20', '7/9/20', '7/10/20', '7/11/20', '7/12/20', '7/13/20', '7/14/20', '7/15/20', '7/16/20', '7/17/20', '7/18/20', '7/19/20', '7/20/20', '7/21/20', '7/22/20', '7/23/20', '7/24/20', '7/25/20', '7/26/20', '7/27/20', '7/28/20', '7/29/20', '7/30/20', '7/31/20', '8/1/20', '8/2/20', '8/3/20', '8/4/20', '8/5/20', '8/6/20', '8/7/20', '8/8/20', '8/9/20', '8/10/20', '8/11/20', '8/12/20', '8/13/20', '8/14/20', '8/15/20', '8/16/20', '8/17/20', '8/18/20', '8/19/20', '8/20/20', '8/21/20', '8/22/20', '8/23/20', '8/24/20', '8/25/20', '8/26/20', '8/27/20', '8/28/20', '8/29/20', '8/30/20', '8/31/20', '9/1/20', '9/2/20', '9/3/20', '9/4/20', '9/5/20', '9/6/20', '9/7/20', '9/8/20', '9/9/20', '9/10/20', '9/11/20', '9/12/20', '9/13/20', '9/14/20', '9/15/20', '9/16/20', '9/17/20', '9/18/20', '9/19/20', '9/20/20', '9/21/20', '9/22/20', '9/23/20', '9/24/20', '9/25/20', '9/26/20', '9/27/20', '9/28/20', '9/29/20', '9/30/20', '10/1/20', '10/2/20', '10/3/20', '10/4/20', '10/5/20', '10/6/20', '10/7/20', '10/8/20', '10/9/20', '10/10/20', '10/11/20', '10/12/20', '10/13/20', '10/14/20', '10/15/20', '10/16/20', '10/17/20', '10/18/20', '10/19/20', '10/20/20', '10/21/20', '10/22/20', '10/23/20', '10/24/20', '10/25/20', '10/26/20', '10/27/20', '10/28/20', '10/29/20', '10/30/20', '10/31/20', '11/1/20', '11/2/20', '11/3/20', '11/4/20', '11/5/20', '11/6/20', '11/7/20', '11/8/20', '11/9/20', '11/10/20', '11/11/20', '11/12/20', '11/13/20', '11/14/20', '11/15/20', '11/16/20', '11/17/20', '11/18/20', '11/19/20', '11/20/20', '11/21/20', '11/22/20', '11/23/20', '11/24/20', '11/25/20', '11/26/20', '11/27/20', '11/28/20', '11/29/20', '11/30/20', '12/1/20', '12/2/20', '12/3/20', '12/4/20', '12/5/20', '12/6/20', '12/7/20', '12/8/20', '12/9/20', '12/10/20', '12/11/20', '12/12/20', '12/13/20', '12/14/20', '12/15/20', '12/16/20', '12/17/20', '12/18/20', '12/19/20', '12/20/20', '12/21/20', '12/22/20', '12/23/20', '12/24/20', '12/25/20', '12/26/20', '12/27/20', '12/28/20', '12/29/20', '12/30/20', '12/31/20', '1/1/21', '1/2/21', '1/3/21', '1/4/21', '1/5/21', '1/6/21', '1/7/21', '1/8/21', '1/9/21', '1/10/21', '1/11/21', '1/12/21', '1/13/21', '1/14/21', '1/15/21', '1/16/21', '1/17/21', '1/18/21', '1/19/21', '1/20/21', '1/21/21', '1/22/21', '1/23/21', '1/24/21', '1/25/21', '1/26/21', '1/27/21', '1/28/21', '1/29/21', '1/30/21', '1/31/21', '2/1/21', '2/2/21', '2/3/21', '2/4/21', '2/5/21', '2/6/21', '2/7/21', '2/8/21', '2/9/21', '2/10/21', '2/11/21', '2/12/21', '2/13/21', '2/14/21', '2/15/21', '2/16/21', '2/17/21', '2/18/21', '2/19/21', '2/20/21', '2/21/21', '2/22/21', '2/23/21', '2/24/21', '2/25/21', '2/26/21', '2/27/21', '2/28/21', '3/1/21', '3/2/21', '3/3/21', '3/4/21', '3/5/21', '3/6/21', '3/7/21', '3/8/21', '3/9/21', '3/10/21', '3/11/21', '3/12/21', '3/13/21', '3/14/21', '3/15/21', '3/16/21', '3/17/21', '3/18/21', '3/19/21', '3/20/21', '3/21/21', '3/22/21', '3/23/21', '3/24/21', '3/25/21', '3/26/21', '3/27/21', '3/28/21', '3/29/21', '3/30/21', '3/31/21', '4/1/21', '4/2/21', '4/3/21', '4/4/21', '4/5/21', '4/6/21', '4/7/21', '4/8/21', '4/9/21', '4/10/21', '4/11/21', '4/12/21', '4/13/21', '4/14/21', '4/15/21', '4/16/21', '4/17/21', '4/18/21', '4/19/21', '4/20/21', '4/21/21', '4/22/21', '4/23/21', '4/24/21', '4/25/21', '4/26/21', '4/27/21', '4/28/21', '4/29/21', '4/30/21', '5/1/21', '5/2/21', '5/3/21', '5/4/21', '5/5/21', '5/6/21', '5/7/21', '5/8/21', '5/9/21', '5/10/21', '5/11/21', '5/12/21', '5/13/21', '5/14/21', '5/15/21', '5/16/21', '5/17/21', '5/18/21', '5/19/21', '5/20/21', '5/21/21', '5/22/21', '5/23/21', '5/24/21', '5/25/21', '5/26/21', '5/27/21', '5/28/21', '5/29/21']\n",
            "Country/Region  Afghanistan  Albania  Algeria  Andorra  Angola  \\\n",
            "Date                                                             \n",
            "2021-05-25              628       14      254       95     310   \n",
            "2021-05-26              840       15      285        7     405   \n",
            "2021-05-27              623       20      280       11     269   \n",
            "2021-05-28              764       21      272       11     337   \n",
            "2021-05-29              981       12      258        0     236   \n",
            "\n",
            "Country/Region  Antigua and Barbuda  Argentina  Armenia  Australia  Austria  \\\n",
            "Date                                                                          \n",
            "2021-05-25                        0      24601      157         17      398   \n",
            "2021-05-26                        0      35399      130         17      445   \n",
            "2021-05-27                        0      41080      140         11      585   \n",
            "2021-05-28                        1      39207      104          9      541   \n",
            "2021-05-29                        0      29841       42         13      498   \n",
            "\n",
            "Country/Region  ...  United Kingdom  Uruguay  Uzbekistan  Vanuatu  Venezuela  \\\n",
            "Date            ...                                                            \n",
            "2021-05-25      ...            2417     3971         192        0       1317   \n",
            "2021-05-26      ...            2991     4576         215        0       1271   \n",
            "2021-05-27      ...            3384     3937         280        0       1421   \n",
            "2021-05-28      ...            4030     1826         236        0       1319   \n",
            "2021-05-29      ...            3241     5974         264        0       1296   \n",
            "\n",
            "Country/Region  Vietnam  West Bank and Gaza  Yemen  Zambia  Zimbabwe  \n",
            "Date                                                                  \n",
            "2021-05-25          527                 557      8     149        10  \n",
            "2021-05-26          155                 461     18     199       113  \n",
            "2021-05-27          270                   0      8     320        35  \n",
            "2021-05-28           40                 774     27     483        64  \n",
            "2021-05-29          512                 269      8     321        15  \n",
            "\n",
            "[5 rows x 193 columns]\n"
          ]
        },
        {
          "output_type": "stream",
          "name": "stderr",
          "text": [
            "<ipython-input-398-0d5148e91ca8>:46: UserWarning: Could not infer format, so each element will be parsed individually, falling back to `dateutil`. To ensure parsing is consistent and as-expected, please specify a format.\n",
            "  melted['Date'] = pd.to_datetime(melted['Date'])\n"
          ]
        }
      ]
    },
    {
      "cell_type": "markdown",
      "source": [
        "Q5.3: What is the distribution of death rates (deaths/confirmed cases) among provinces in Canada? Identify the province with the highest and lowest death rate as of the latest data point."
      ],
      "metadata": {
        "id": "52n3e1BrLHD2"
      }
    },
    {
      "cell_type": "code",
      "source": [
        "# Load the dataset\n",
        "confirmed_df = pd.read_csv('covid_19_confirmed_v1.csv')\n",
        "\n",
        "# Display the first few rows and column names\n",
        "print(\"First few rows of data:\")\n",
        "print(confirmed_df.head())\n",
        "\n",
        "print(\"\\nColumns in the dataset:\")\n",
        "print(confirmed_df.columns.tolist())\n",
        "\n",
        "# Example: Using 'Country/Region' if it exists\n",
        "country_col = 'Country/Region' if 'Country/Region' in confirmed_df.columns else 'Country'\n",
        "\n",
        "# Or directly use the correct column name\n",
        "confirmed_country = confirmed_df.groupby(country_col)[date_cols].sum().reset_index()\n",
        "\n",
        "country_col = confirmed_df.get('Country/Region')\n",
        "if country_col is None:\n",
        "    print(\"Column 'Country/Region' not found.\")\n",
        "else:\n",
        "    print(\"Found 'Country/Region'\")\n",
        "\n",
        "for col in confirmed_df.columns:\n",
        "    if 'country' in col.lower():\n",
        "        print(f\"Possible country column: {col}\")\n",
        "\n",
        "import pandas as pd\n",
        "\n",
        "# Load dataset\n",
        "confirmed_df = pd.read_csv('covid_19_confirmed_v1.csv')\n",
        "\n",
        "# Display column names and sample data\n",
        "print(\"Columns:\", confirmed_df.columns.tolist())\n",
        "print(confirmed_df.head())\n",
        "\n",
        "# Determine the correct country column\n",
        "country_col = 'Country/Region' if 'Country/Region' in confirmed_df.columns else 'Country'\n",
        "\n",
        "# Drop unnecessary columns\n",
        "confirmed = confirmed_df.drop(['Lat', 'Long'], axis=1, errors='ignore')\n",
        "\n",
        "# Identify date columns\n",
        "date_cols = confirmed.columns[2:]\n",
        "\n",
        "# Group by country\n",
        "confirmed_country = confirmed.groupby(country_col)[date_cols].sum().reset_index()\n",
        "\n",
        "# Melt into long format\n",
        "melted = confirmed_country.melt(\n",
        "    id_vars=country_col,\n",
        "    value_vars=date_cols,\n",
        "    var_name='Date',\n",
        "    value_name='Confirmed'\n",
        ")\n",
        "\n",
        "# Convert Date to datetime\n",
        "melted['Date'] = pd.to_datetime(melted['Date'])\n",
        "\n",
        "# Output result\n",
        "print(melted.head())\n"
      ],
      "metadata": {
        "colab": {
          "base_uri": "https://localhost:8080/"
        },
        "id": "3EzQUmC-w7kI",
        "outputId": "4f76fe27-044d-4beb-8221-ff91c1a87d8c"
      },
      "execution_count": 399,
      "outputs": [
        {
          "output_type": "stream",
          "name": "stdout",
          "text": [
            "First few rows of data:\n",
            "  Province/State Country/Region       Lat       Long  1/22/20  1/23/20  \\\n",
            "0            NaN    Afghanistan  33.93911  67.709953        0        0   \n",
            "1            NaN        Albania  41.15330  20.168300        0        0   \n",
            "2            NaN        Algeria  28.03390   1.659600        0        0   \n",
            "3            NaN        Andorra  42.50630   1.521800        0        0   \n",
            "4            NaN         Angola -11.20270  17.873900        0        0   \n",
            "\n",
            "   1/24/20  1/25/20  1/26/20  1/27/20  ...  5/20/21  5/21/21  5/22/21  \\\n",
            "0        0        0        0        0  ...    64575    65080    65486   \n",
            "1        0        0        0        0  ...   132118   132153   132176   \n",
            "2        0        0        0        0  ...   126156   126434   126651   \n",
            "3        0        0        0        0  ...    13569    13569    13569   \n",
            "4        0        0        0        0  ...    31661    31909    32149   \n",
            "\n",
            "   5/23/21  5/24/21  5/25/21  5/26/21  5/27/21  5/28/21  5/29/21  \n",
            "0    65728    66275    66903    67743    68366    69130    70111  \n",
            "1   132209   132215   132229   132244   132264   132285   132297  \n",
            "2   126860   127107   127361   127646   127926   128198   128456  \n",
            "3    13569    13569    13664    13671    13682    13693    13693  \n",
            "4    32441    32623    32933    33338    33607    33944    34180  \n",
            "\n",
            "[5 rows x 498 columns]\n",
            "\n",
            "Columns in the dataset:\n",
            "['Province/State', 'Country/Region', 'Lat', 'Long', '1/22/20', '1/23/20', '1/24/20', '1/25/20', '1/26/20', '1/27/20', '1/28/20', '1/29/20', '1/30/20', '1/31/20', '2/1/20', '2/2/20', '2/3/20', '2/4/20', '2/5/20', '2/6/20', '2/7/20', '2/8/20', '2/9/20', '2/10/20', '2/11/20', '2/12/20', '2/13/20', '2/14/20', '2/15/20', '2/16/20', '2/17/20', '2/18/20', '2/19/20', '2/20/20', '2/21/20', '2/22/20', '2/23/20', '2/24/20', '2/25/20', '2/26/20', '2/27/20', '2/28/20', '2/29/20', '3/1/20', '3/2/20', '3/3/20', '3/4/20', '3/5/20', '3/6/20', '3/7/20', '3/8/20', '3/9/20', '3/10/20', '3/11/20', '3/12/20', '3/13/20', '3/14/20', '3/15/20', '3/16/20', '3/17/20', '3/18/20', '3/19/20', '3/20/20', '3/21/20', '3/22/20', '3/23/20', '3/24/20', '3/25/20', '3/26/20', '3/27/20', '3/28/20', '3/29/20', '3/30/20', '3/31/20', '4/1/20', '4/2/20', '4/3/20', '4/4/20', '4/5/20', '4/6/20', '4/7/20', '4/8/20', '4/9/20', '4/10/20', '4/11/20', '4/12/20', '4/13/20', '4/14/20', '4/15/20', '4/16/20', '4/17/20', '4/18/20', '4/19/20', '4/20/20', '4/21/20', '4/22/20', '4/23/20', '4/24/20', '4/25/20', '4/26/20', '4/27/20', '4/28/20', '4/29/20', '4/30/20', '5/1/20', '5/2/20', '5/3/20', '5/4/20', '5/5/20', '5/6/20', '5/7/20', '5/8/20', '5/9/20', '5/10/20', '5/11/20', '5/12/20', '5/13/20', '5/14/20', '5/15/20', '5/16/20', '5/17/20', '5/18/20', '5/19/20', '5/20/20', '5/21/20', '5/22/20', '5/23/20', '5/24/20', '5/25/20', '5/26/20', '5/27/20', '5/28/20', '5/29/20', '5/30/20', '5/31/20', '6/1/20', '6/2/20', '6/3/20', '6/4/20', '6/5/20', '6/6/20', '6/7/20', '6/8/20', '6/9/20', '6/10/20', '6/11/20', '6/12/20', '6/13/20', '6/14/20', '6/15/20', '6/16/20', '6/17/20', '6/18/20', '6/19/20', '6/20/20', '6/21/20', '6/22/20', '6/23/20', '6/24/20', '6/25/20', '6/26/20', '6/27/20', '6/28/20', '6/29/20', '6/30/20', '7/1/20', '7/2/20', '7/3/20', '7/4/20', '7/5/20', '7/6/20', '7/7/20', '7/8/20', '7/9/20', '7/10/20', '7/11/20', '7/12/20', '7/13/20', '7/14/20', '7/15/20', '7/16/20', '7/17/20', '7/18/20', '7/19/20', '7/20/20', '7/21/20', '7/22/20', '7/23/20', '7/24/20', '7/25/20', '7/26/20', '7/27/20', '7/28/20', '7/29/20', '7/30/20', '7/31/20', '8/1/20', '8/2/20', '8/3/20', '8/4/20', '8/5/20', '8/6/20', '8/7/20', '8/8/20', '8/9/20', '8/10/20', '8/11/20', '8/12/20', '8/13/20', '8/14/20', '8/15/20', '8/16/20', '8/17/20', '8/18/20', '8/19/20', '8/20/20', '8/21/20', '8/22/20', '8/23/20', '8/24/20', '8/25/20', '8/26/20', '8/27/20', '8/28/20', '8/29/20', '8/30/20', '8/31/20', '9/1/20', '9/2/20', '9/3/20', '9/4/20', '9/5/20', '9/6/20', '9/7/20', '9/8/20', '9/9/20', '9/10/20', '9/11/20', '9/12/20', '9/13/20', '9/14/20', '9/15/20', '9/16/20', '9/17/20', '9/18/20', '9/19/20', '9/20/20', '9/21/20', '9/22/20', '9/23/20', '9/24/20', '9/25/20', '9/26/20', '9/27/20', '9/28/20', '9/29/20', '9/30/20', '10/1/20', '10/2/20', '10/3/20', '10/4/20', '10/5/20', '10/6/20', '10/7/20', '10/8/20', '10/9/20', '10/10/20', '10/11/20', '10/12/20', '10/13/20', '10/14/20', '10/15/20', '10/16/20', '10/17/20', '10/18/20', '10/19/20', '10/20/20', '10/21/20', '10/22/20', '10/23/20', '10/24/20', '10/25/20', '10/26/20', '10/27/20', '10/28/20', '10/29/20', '10/30/20', '10/31/20', '11/1/20', '11/2/20', '11/3/20', '11/4/20', '11/5/20', '11/6/20', '11/7/20', '11/8/20', '11/9/20', '11/10/20', '11/11/20', '11/12/20', '11/13/20', '11/14/20', '11/15/20', '11/16/20', '11/17/20', '11/18/20', '11/19/20', '11/20/20', '11/21/20', '11/22/20', '11/23/20', '11/24/20', '11/25/20', '11/26/20', '11/27/20', '11/28/20', '11/29/20', '11/30/20', '12/1/20', '12/2/20', '12/3/20', '12/4/20', '12/5/20', '12/6/20', '12/7/20', '12/8/20', '12/9/20', '12/10/20', '12/11/20', '12/12/20', '12/13/20', '12/14/20', '12/15/20', '12/16/20', '12/17/20', '12/18/20', '12/19/20', '12/20/20', '12/21/20', '12/22/20', '12/23/20', '12/24/20', '12/25/20', '12/26/20', '12/27/20', '12/28/20', '12/29/20', '12/30/20', '12/31/20', '1/1/21', '1/2/21', '1/3/21', '1/4/21', '1/5/21', '1/6/21', '1/7/21', '1/8/21', '1/9/21', '1/10/21', '1/11/21', '1/12/21', '1/13/21', '1/14/21', '1/15/21', '1/16/21', '1/17/21', '1/18/21', '1/19/21', '1/20/21', '1/21/21', '1/22/21', '1/23/21', '1/24/21', '1/25/21', '1/26/21', '1/27/21', '1/28/21', '1/29/21', '1/30/21', '1/31/21', '2/1/21', '2/2/21', '2/3/21', '2/4/21', '2/5/21', '2/6/21', '2/7/21', '2/8/21', '2/9/21', '2/10/21', '2/11/21', '2/12/21', '2/13/21', '2/14/21', '2/15/21', '2/16/21', '2/17/21', '2/18/21', '2/19/21', '2/20/21', '2/21/21', '2/22/21', '2/23/21', '2/24/21', '2/25/21', '2/26/21', '2/27/21', '2/28/21', '3/1/21', '3/2/21', '3/3/21', '3/4/21', '3/5/21', '3/6/21', '3/7/21', '3/8/21', '3/9/21', '3/10/21', '3/11/21', '3/12/21', '3/13/21', '3/14/21', '3/15/21', '3/16/21', '3/17/21', '3/18/21', '3/19/21', '3/20/21', '3/21/21', '3/22/21', '3/23/21', '3/24/21', '3/25/21', '3/26/21', '3/27/21', '3/28/21', '3/29/21', '3/30/21', '3/31/21', '4/1/21', '4/2/21', '4/3/21', '4/4/21', '4/5/21', '4/6/21', '4/7/21', '4/8/21', '4/9/21', '4/10/21', '4/11/21', '4/12/21', '4/13/21', '4/14/21', '4/15/21', '4/16/21', '4/17/21', '4/18/21', '4/19/21', '4/20/21', '4/21/21', '4/22/21', '4/23/21', '4/24/21', '4/25/21', '4/26/21', '4/27/21', '4/28/21', '4/29/21', '4/30/21', '5/1/21', '5/2/21', '5/3/21', '5/4/21', '5/5/21', '5/6/21', '5/7/21', '5/8/21', '5/9/21', '5/10/21', '5/11/21', '5/12/21', '5/13/21', '5/14/21', '5/15/21', '5/16/21', '5/17/21', '5/18/21', '5/19/21', '5/20/21', '5/21/21', '5/22/21', '5/23/21', '5/24/21', '5/25/21', '5/26/21', '5/27/21', '5/28/21', '5/29/21']\n",
            "Found 'Country/Region'\n",
            "Possible country column: Country/Region\n"
          ]
        },
        {
          "output_type": "stream",
          "name": "stderr",
          "text": [
            "<ipython-input-399-3eda0971327f>:57: UserWarning: Could not infer format, so each element will be parsed individually, falling back to `dateutil`. To ensure parsing is consistent and as-expected, please specify a format.\n",
            "  melted['Date'] = pd.to_datetime(melted['Date'])\n"
          ]
        },
        {
          "output_type": "stream",
          "name": "stdout",
          "text": [
            "Columns: ['Province/State', 'Country/Region', 'Lat', 'Long', '1/22/20', '1/23/20', '1/24/20', '1/25/20', '1/26/20', '1/27/20', '1/28/20', '1/29/20', '1/30/20', '1/31/20', '2/1/20', '2/2/20', '2/3/20', '2/4/20', '2/5/20', '2/6/20', '2/7/20', '2/8/20', '2/9/20', '2/10/20', '2/11/20', '2/12/20', '2/13/20', '2/14/20', '2/15/20', '2/16/20', '2/17/20', '2/18/20', '2/19/20', '2/20/20', '2/21/20', '2/22/20', '2/23/20', '2/24/20', '2/25/20', '2/26/20', '2/27/20', '2/28/20', '2/29/20', '3/1/20', '3/2/20', '3/3/20', '3/4/20', '3/5/20', '3/6/20', '3/7/20', '3/8/20', '3/9/20', '3/10/20', '3/11/20', '3/12/20', '3/13/20', '3/14/20', '3/15/20', '3/16/20', '3/17/20', '3/18/20', '3/19/20', '3/20/20', '3/21/20', '3/22/20', '3/23/20', '3/24/20', '3/25/20', '3/26/20', '3/27/20', '3/28/20', '3/29/20', '3/30/20', '3/31/20', '4/1/20', '4/2/20', '4/3/20', '4/4/20', '4/5/20', '4/6/20', '4/7/20', '4/8/20', '4/9/20', '4/10/20', '4/11/20', '4/12/20', '4/13/20', '4/14/20', '4/15/20', '4/16/20', '4/17/20', '4/18/20', '4/19/20', '4/20/20', '4/21/20', '4/22/20', '4/23/20', '4/24/20', '4/25/20', '4/26/20', '4/27/20', '4/28/20', '4/29/20', '4/30/20', '5/1/20', '5/2/20', '5/3/20', '5/4/20', '5/5/20', '5/6/20', '5/7/20', '5/8/20', '5/9/20', '5/10/20', '5/11/20', '5/12/20', '5/13/20', '5/14/20', '5/15/20', '5/16/20', '5/17/20', '5/18/20', '5/19/20', '5/20/20', '5/21/20', '5/22/20', '5/23/20', '5/24/20', '5/25/20', '5/26/20', '5/27/20', '5/28/20', '5/29/20', '5/30/20', '5/31/20', '6/1/20', '6/2/20', '6/3/20', '6/4/20', '6/5/20', '6/6/20', '6/7/20', '6/8/20', '6/9/20', '6/10/20', '6/11/20', '6/12/20', '6/13/20', '6/14/20', '6/15/20', '6/16/20', '6/17/20', '6/18/20', '6/19/20', '6/20/20', '6/21/20', '6/22/20', '6/23/20', '6/24/20', '6/25/20', '6/26/20', '6/27/20', '6/28/20', '6/29/20', '6/30/20', '7/1/20', '7/2/20', '7/3/20', '7/4/20', '7/5/20', '7/6/20', '7/7/20', '7/8/20', '7/9/20', '7/10/20', '7/11/20', '7/12/20', '7/13/20', '7/14/20', '7/15/20', '7/16/20', '7/17/20', '7/18/20', '7/19/20', '7/20/20', '7/21/20', '7/22/20', '7/23/20', '7/24/20', '7/25/20', '7/26/20', '7/27/20', '7/28/20', '7/29/20', '7/30/20', '7/31/20', '8/1/20', '8/2/20', '8/3/20', '8/4/20', '8/5/20', '8/6/20', '8/7/20', '8/8/20', '8/9/20', '8/10/20', '8/11/20', '8/12/20', '8/13/20', '8/14/20', '8/15/20', '8/16/20', '8/17/20', '8/18/20', '8/19/20', '8/20/20', '8/21/20', '8/22/20', '8/23/20', '8/24/20', '8/25/20', '8/26/20', '8/27/20', '8/28/20', '8/29/20', '8/30/20', '8/31/20', '9/1/20', '9/2/20', '9/3/20', '9/4/20', '9/5/20', '9/6/20', '9/7/20', '9/8/20', '9/9/20', '9/10/20', '9/11/20', '9/12/20', '9/13/20', '9/14/20', '9/15/20', '9/16/20', '9/17/20', '9/18/20', '9/19/20', '9/20/20', '9/21/20', '9/22/20', '9/23/20', '9/24/20', '9/25/20', '9/26/20', '9/27/20', '9/28/20', '9/29/20', '9/30/20', '10/1/20', '10/2/20', '10/3/20', '10/4/20', '10/5/20', '10/6/20', '10/7/20', '10/8/20', '10/9/20', '10/10/20', '10/11/20', '10/12/20', '10/13/20', '10/14/20', '10/15/20', '10/16/20', '10/17/20', '10/18/20', '10/19/20', '10/20/20', '10/21/20', '10/22/20', '10/23/20', '10/24/20', '10/25/20', '10/26/20', '10/27/20', '10/28/20', '10/29/20', '10/30/20', '10/31/20', '11/1/20', '11/2/20', '11/3/20', '11/4/20', '11/5/20', '11/6/20', '11/7/20', '11/8/20', '11/9/20', '11/10/20', '11/11/20', '11/12/20', '11/13/20', '11/14/20', '11/15/20', '11/16/20', '11/17/20', '11/18/20', '11/19/20', '11/20/20', '11/21/20', '11/22/20', '11/23/20', '11/24/20', '11/25/20', '11/26/20', '11/27/20', '11/28/20', '11/29/20', '11/30/20', '12/1/20', '12/2/20', '12/3/20', '12/4/20', '12/5/20', '12/6/20', '12/7/20', '12/8/20', '12/9/20', '12/10/20', '12/11/20', '12/12/20', '12/13/20', '12/14/20', '12/15/20', '12/16/20', '12/17/20', '12/18/20', '12/19/20', '12/20/20', '12/21/20', '12/22/20', '12/23/20', '12/24/20', '12/25/20', '12/26/20', '12/27/20', '12/28/20', '12/29/20', '12/30/20', '12/31/20', '1/1/21', '1/2/21', '1/3/21', '1/4/21', '1/5/21', '1/6/21', '1/7/21', '1/8/21', '1/9/21', '1/10/21', '1/11/21', '1/12/21', '1/13/21', '1/14/21', '1/15/21', '1/16/21', '1/17/21', '1/18/21', '1/19/21', '1/20/21', '1/21/21', '1/22/21', '1/23/21', '1/24/21', '1/25/21', '1/26/21', '1/27/21', '1/28/21', '1/29/21', '1/30/21', '1/31/21', '2/1/21', '2/2/21', '2/3/21', '2/4/21', '2/5/21', '2/6/21', '2/7/21', '2/8/21', '2/9/21', '2/10/21', '2/11/21', '2/12/21', '2/13/21', '2/14/21', '2/15/21', '2/16/21', '2/17/21', '2/18/21', '2/19/21', '2/20/21', '2/21/21', '2/22/21', '2/23/21', '2/24/21', '2/25/21', '2/26/21', '2/27/21', '2/28/21', '3/1/21', '3/2/21', '3/3/21', '3/4/21', '3/5/21', '3/6/21', '3/7/21', '3/8/21', '3/9/21', '3/10/21', '3/11/21', '3/12/21', '3/13/21', '3/14/21', '3/15/21', '3/16/21', '3/17/21', '3/18/21', '3/19/21', '3/20/21', '3/21/21', '3/22/21', '3/23/21', '3/24/21', '3/25/21', '3/26/21', '3/27/21', '3/28/21', '3/29/21', '3/30/21', '3/31/21', '4/1/21', '4/2/21', '4/3/21', '4/4/21', '4/5/21', '4/6/21', '4/7/21', '4/8/21', '4/9/21', '4/10/21', '4/11/21', '4/12/21', '4/13/21', '4/14/21', '4/15/21', '4/16/21', '4/17/21', '4/18/21', '4/19/21', '4/20/21', '4/21/21', '4/22/21', '4/23/21', '4/24/21', '4/25/21', '4/26/21', '4/27/21', '4/28/21', '4/29/21', '4/30/21', '5/1/21', '5/2/21', '5/3/21', '5/4/21', '5/5/21', '5/6/21', '5/7/21', '5/8/21', '5/9/21', '5/10/21', '5/11/21', '5/12/21', '5/13/21', '5/14/21', '5/15/21', '5/16/21', '5/17/21', '5/18/21', '5/19/21', '5/20/21', '5/21/21', '5/22/21', '5/23/21', '5/24/21', '5/25/21', '5/26/21', '5/27/21', '5/28/21', '5/29/21']\n",
            "  Province/State Country/Region       Lat       Long  1/22/20  1/23/20  \\\n",
            "0            NaN    Afghanistan  33.93911  67.709953        0        0   \n",
            "1            NaN        Albania  41.15330  20.168300        0        0   \n",
            "2            NaN        Algeria  28.03390   1.659600        0        0   \n",
            "3            NaN        Andorra  42.50630   1.521800        0        0   \n",
            "4            NaN         Angola -11.20270  17.873900        0        0   \n",
            "\n",
            "   1/24/20  1/25/20  1/26/20  1/27/20  ...  5/20/21  5/21/21  5/22/21  \\\n",
            "0        0        0        0        0  ...    64575    65080    65486   \n",
            "1        0        0        0        0  ...   132118   132153   132176   \n",
            "2        0        0        0        0  ...   126156   126434   126651   \n",
            "3        0        0        0        0  ...    13569    13569    13569   \n",
            "4        0        0        0        0  ...    31661    31909    32149   \n",
            "\n",
            "   5/23/21  5/24/21  5/25/21  5/26/21  5/27/21  5/28/21  5/29/21  \n",
            "0    65728    66275    66903    67743    68366    69130    70111  \n",
            "1   132209   132215   132229   132244   132264   132285   132297  \n",
            "2   126860   127107   127361   127646   127926   128198   128456  \n",
            "3    13569    13569    13664    13671    13682    13693    13693  \n",
            "4    32441    32623    32933    33338    33607    33944    34180  \n",
            "\n",
            "[5 rows x 498 columns]\n",
            "  Country/Region       Date  Confirmed\n",
            "0    Afghanistan 2020-01-22          0\n",
            "1        Albania 2020-01-22          0\n",
            "2        Algeria 2020-01-22          0\n",
            "3        Andorra 2020-01-22          0\n",
            "4         Angola 2020-01-22          0\n"
          ]
        }
      ]
    },
    {
      "cell_type": "markdown",
      "source": [
        "Question 6: Data Transformation"
      ],
      "metadata": {
        "id": "k-l-xVb5JJ_E"
      }
    },
    {
      "cell_type": "markdown",
      "source": [
        "Q6.1: Transform the 'deaths' dataset from wide format (where each column represents a date) to long format, where each row represents a single date, ensuring that the date column is in datetime format. How would this transformation be executed?"
      ],
      "metadata": {
        "id": "gq1HQPyxLL6J"
      }
    },
    {
      "cell_type": "code",
      "source": [
        "# Define the column names\n",
        "column_names = [\n",
        "    'Province/State', 'Country/Region', 'Lat', 'Long'\n",
        "] + [f\"{m}/{d}/{y}\" for y in [20, 21] for m in range(1, 13) for d in range(1, 32)\n",
        "     if (y == 20 or (y == 21 and m <= 5)) and\n",
        "        not ((m == 2 and d > 29) or (m in [4,6,9,11] and d > 30))]\n",
        "\n",
        "# Limit to 498 columns (as per your output)\n",
        "column_names = column_names[:498]\n",
        "\n",
        "# Load the dataset with custom column names\n",
        "deaths_df = pd.read_csv('covid_19_deaths_v1.csv', header=None, names=column_names)\n",
        "\n",
        "# Display the first few rows and columns\n",
        "print(\"First 2 Rows of Data:\")\n",
        "print(deaths_df.head(2))\n",
        "print(\"\\nColumns in the dataset:\")\n",
        "print(deaths_df.columns.tolist())\n",
        "\n",
        "# Drop unnecessary columns (Lat and Long)\n",
        "deaths = deaths_df.drop(['Lat', 'Long'], axis=1)\n",
        "\n",
        "# Identify date columns (skip first two columns)\n",
        "date_columns = deaths.columns[2:]\n",
        "\n",
        "# Melt the dataset into long format\n",
        "deaths_long = deaths.melt(\n",
        "    id_vars=['Province/State', 'Country/Region'],\n",
        "    value_vars=date_columns,\n",
        "    var_name='Date',\n",
        "    value_name='Deaths'\n",
        ")\n",
        "\n",
        "# Convert Date to datetime\n",
        "# deaths_long['Date'] = pd.to_datetime(deaths_long['Date'])\n",
        "\n",
        "# Display the transformed dataset\n",
        "print(\"\\nTransformed Dataset (First 5 Rows):\")\n",
        "print(deaths_long.head())\n",
        "# Group by country and get the latest death count\n",
        "total_deaths_per_country = deaths_long.groupby('Country/Region').agg({\n",
        "    'Deaths': 'last'\n",
        "}).reset_index()\n",
        "\n",
        "# Sort by total deaths in descending order\n",
        "total_deaths_per_country = total_deaths_per_country.sort_values(by='Deaths', ascending=False)\n",
        "\n",
        "# Display the top 10 countries by total deaths\n",
        "print(\"\\nTop 10 Countries by Total Deaths:\")\n",
        "print(total_deaths_per_country.head(10))\n",
        "\n",
        "\n",
        "\n"
      ],
      "metadata": {
        "colab": {
          "base_uri": "https://localhost:8080/"
        },
        "id": "NwSsu5XQyQ6O",
        "outputId": "c58381b9-4604-454c-cda5-7e92c72ebc1c"
      },
      "execution_count": 400,
      "outputs": [
        {
          "output_type": "stream",
          "name": "stdout",
          "text": [
            "First 2 Rows of Data:\n",
            "   Province/State  Country/Region      Lat     Long   1/1/20   1/2/20  \\\n",
            "0         Column1         Column2  Column3  Column4  Column5  Column6   \n",
            "1  Province/State  Country/Region      Lat     Long  1/22/20  1/23/20   \n",
            "\n",
            "    1/3/20   1/4/20   1/5/20    1/6/20  ...    4/28/21    4/29/21    4/30/21  \\\n",
            "0  Column7  Column8  Column9  Column10  ...  Column489  Column490  Column491   \n",
            "1  1/24/20  1/25/20  1/26/20   1/27/20  ...    5/20/21    5/21/21    5/22/21   \n",
            "\n",
            "      5/1/21     5/2/21     5/3/21     5/4/21     5/5/21     5/6/21     5/7/21  \n",
            "0  Column492  Column493  Column494  Column495  Column496  Column497  Column498  \n",
            "1    5/23/21    5/24/21    5/25/21    5/26/21    5/27/21    5/28/21    5/29/21  \n",
            "\n",
            "[2 rows x 498 columns]\n",
            "\n",
            "Columns in the dataset:\n",
            "['Province/State', 'Country/Region', 'Lat', 'Long', '1/1/20', '1/2/20', '1/3/20', '1/4/20', '1/5/20', '1/6/20', '1/7/20', '1/8/20', '1/9/20', '1/10/20', '1/11/20', '1/12/20', '1/13/20', '1/14/20', '1/15/20', '1/16/20', '1/17/20', '1/18/20', '1/19/20', '1/20/20', '1/21/20', '1/22/20', '1/23/20', '1/24/20', '1/25/20', '1/26/20', '1/27/20', '1/28/20', '1/29/20', '1/30/20', '1/31/20', '2/1/20', '2/2/20', '2/3/20', '2/4/20', '2/5/20', '2/6/20', '2/7/20', '2/8/20', '2/9/20', '2/10/20', '2/11/20', '2/12/20', '2/13/20', '2/14/20', '2/15/20', '2/16/20', '2/17/20', '2/18/20', '2/19/20', '2/20/20', '2/21/20', '2/22/20', '2/23/20', '2/24/20', '2/25/20', '2/26/20', '2/27/20', '2/28/20', '2/29/20', '3/1/20', '3/2/20', '3/3/20', '3/4/20', '3/5/20', '3/6/20', '3/7/20', '3/8/20', '3/9/20', '3/10/20', '3/11/20', '3/12/20', '3/13/20', '3/14/20', '3/15/20', '3/16/20', '3/17/20', '3/18/20', '3/19/20', '3/20/20', '3/21/20', '3/22/20', '3/23/20', '3/24/20', '3/25/20', '3/26/20', '3/27/20', '3/28/20', '3/29/20', '3/30/20', '3/31/20', '4/1/20', '4/2/20', '4/3/20', '4/4/20', '4/5/20', '4/6/20', '4/7/20', '4/8/20', '4/9/20', '4/10/20', '4/11/20', '4/12/20', '4/13/20', '4/14/20', '4/15/20', '4/16/20', '4/17/20', '4/18/20', '4/19/20', '4/20/20', '4/21/20', '4/22/20', '4/23/20', '4/24/20', '4/25/20', '4/26/20', '4/27/20', '4/28/20', '4/29/20', '4/30/20', '5/1/20', '5/2/20', '5/3/20', '5/4/20', '5/5/20', '5/6/20', '5/7/20', '5/8/20', '5/9/20', '5/10/20', '5/11/20', '5/12/20', '5/13/20', '5/14/20', '5/15/20', '5/16/20', '5/17/20', '5/18/20', '5/19/20', '5/20/20', '5/21/20', '5/22/20', '5/23/20', '5/24/20', '5/25/20', '5/26/20', '5/27/20', '5/28/20', '5/29/20', '5/30/20', '5/31/20', '6/1/20', '6/2/20', '6/3/20', '6/4/20', '6/5/20', '6/6/20', '6/7/20', '6/8/20', '6/9/20', '6/10/20', '6/11/20', '6/12/20', '6/13/20', '6/14/20', '6/15/20', '6/16/20', '6/17/20', '6/18/20', '6/19/20', '6/20/20', '6/21/20', '6/22/20', '6/23/20', '6/24/20', '6/25/20', '6/26/20', '6/27/20', '6/28/20', '6/29/20', '6/30/20', '7/1/20', '7/2/20', '7/3/20', '7/4/20', '7/5/20', '7/6/20', '7/7/20', '7/8/20', '7/9/20', '7/10/20', '7/11/20', '7/12/20', '7/13/20', '7/14/20', '7/15/20', '7/16/20', '7/17/20', '7/18/20', '7/19/20', '7/20/20', '7/21/20', '7/22/20', '7/23/20', '7/24/20', '7/25/20', '7/26/20', '7/27/20', '7/28/20', '7/29/20', '7/30/20', '7/31/20', '8/1/20', '8/2/20', '8/3/20', '8/4/20', '8/5/20', '8/6/20', '8/7/20', '8/8/20', '8/9/20', '8/10/20', '8/11/20', '8/12/20', '8/13/20', '8/14/20', '8/15/20', '8/16/20', '8/17/20', '8/18/20', '8/19/20', '8/20/20', '8/21/20', '8/22/20', '8/23/20', '8/24/20', '8/25/20', '8/26/20', '8/27/20', '8/28/20', '8/29/20', '8/30/20', '8/31/20', '9/1/20', '9/2/20', '9/3/20', '9/4/20', '9/5/20', '9/6/20', '9/7/20', '9/8/20', '9/9/20', '9/10/20', '9/11/20', '9/12/20', '9/13/20', '9/14/20', '9/15/20', '9/16/20', '9/17/20', '9/18/20', '9/19/20', '9/20/20', '9/21/20', '9/22/20', '9/23/20', '9/24/20', '9/25/20', '9/26/20', '9/27/20', '9/28/20', '9/29/20', '9/30/20', '10/1/20', '10/2/20', '10/3/20', '10/4/20', '10/5/20', '10/6/20', '10/7/20', '10/8/20', '10/9/20', '10/10/20', '10/11/20', '10/12/20', '10/13/20', '10/14/20', '10/15/20', '10/16/20', '10/17/20', '10/18/20', '10/19/20', '10/20/20', '10/21/20', '10/22/20', '10/23/20', '10/24/20', '10/25/20', '10/26/20', '10/27/20', '10/28/20', '10/29/20', '10/30/20', '10/31/20', '11/1/20', '11/2/20', '11/3/20', '11/4/20', '11/5/20', '11/6/20', '11/7/20', '11/8/20', '11/9/20', '11/10/20', '11/11/20', '11/12/20', '11/13/20', '11/14/20', '11/15/20', '11/16/20', '11/17/20', '11/18/20', '11/19/20', '11/20/20', '11/21/20', '11/22/20', '11/23/20', '11/24/20', '11/25/20', '11/26/20', '11/27/20', '11/28/20', '11/29/20', '11/30/20', '12/1/20', '12/2/20', '12/3/20', '12/4/20', '12/5/20', '12/6/20', '12/7/20', '12/8/20', '12/9/20', '12/10/20', '12/11/20', '12/12/20', '12/13/20', '12/14/20', '12/15/20', '12/16/20', '12/17/20', '12/18/20', '12/19/20', '12/20/20', '12/21/20', '12/22/20', '12/23/20', '12/24/20', '12/25/20', '12/26/20', '12/27/20', '12/28/20', '12/29/20', '12/30/20', '12/31/20', '1/1/21', '1/2/21', '1/3/21', '1/4/21', '1/5/21', '1/6/21', '1/7/21', '1/8/21', '1/9/21', '1/10/21', '1/11/21', '1/12/21', '1/13/21', '1/14/21', '1/15/21', '1/16/21', '1/17/21', '1/18/21', '1/19/21', '1/20/21', '1/21/21', '1/22/21', '1/23/21', '1/24/21', '1/25/21', '1/26/21', '1/27/21', '1/28/21', '1/29/21', '1/30/21', '1/31/21', '2/1/21', '2/2/21', '2/3/21', '2/4/21', '2/5/21', '2/6/21', '2/7/21', '2/8/21', '2/9/21', '2/10/21', '2/11/21', '2/12/21', '2/13/21', '2/14/21', '2/15/21', '2/16/21', '2/17/21', '2/18/21', '2/19/21', '2/20/21', '2/21/21', '2/22/21', '2/23/21', '2/24/21', '2/25/21', '2/26/21', '2/27/21', '2/28/21', '2/29/21', '3/1/21', '3/2/21', '3/3/21', '3/4/21', '3/5/21', '3/6/21', '3/7/21', '3/8/21', '3/9/21', '3/10/21', '3/11/21', '3/12/21', '3/13/21', '3/14/21', '3/15/21', '3/16/21', '3/17/21', '3/18/21', '3/19/21', '3/20/21', '3/21/21', '3/22/21', '3/23/21', '3/24/21', '3/25/21', '3/26/21', '3/27/21', '3/28/21', '3/29/21', '3/30/21', '3/31/21', '4/1/21', '4/2/21', '4/3/21', '4/4/21', '4/5/21', '4/6/21', '4/7/21', '4/8/21', '4/9/21', '4/10/21', '4/11/21', '4/12/21', '4/13/21', '4/14/21', '4/15/21', '4/16/21', '4/17/21', '4/18/21', '4/19/21', '4/20/21', '4/21/21', '4/22/21', '4/23/21', '4/24/21', '4/25/21', '4/26/21', '4/27/21', '4/28/21', '4/29/21', '4/30/21', '5/1/21', '5/2/21', '5/3/21', '5/4/21', '5/5/21', '5/6/21', '5/7/21']\n",
            "\n",
            "Transformed Dataset (First 5 Rows):\n",
            "   Province/State  Country/Region    Date   Deaths\n",
            "0         Column1         Column2  1/1/20  Column5\n",
            "1  Province/State  Country/Region  1/1/20  1/22/20\n",
            "2             NaN     Afghanistan  1/1/20        0\n",
            "3             NaN         Albania  1/1/20        0\n",
            "4             NaN         Algeria  1/1/20        0\n",
            "\n",
            "Top 10 Countries by Total Deaths:\n",
            "               Country/Region     Deaths\n",
            "38                    Column2  Column498\n",
            "172                   Taiwan*         99\n",
            "175                  Thailand        988\n",
            "33   Central African Republic         98\n",
            "63                    Finland        948\n",
            "90                     Jordan       9436\n",
            "46                       Cuba        943\n",
            "88                    Jamaica        942\n",
            "12                    Bahrain        939\n",
            "21     Bosnia and Herzegovina       9211\n"
          ]
        }
      ]
    },
    {
      "cell_type": "markdown",
      "source": [
        "Q6.2: What is the total number of deaths reported per country up to the current date?"
      ],
      "metadata": {
        "id": "hxFfCijxLXDc"
      }
    },
    {
      "cell_type": "code",
      "source": [
        "# Get the latest date in the dataset\n",
        "latest_date = deaths_long['Date'].max()\n",
        "\n",
        "# Filter the dataset for the latest date\n",
        "latest_deaths = deaths_long[deaths_long['Date'] == latest_date]\n",
        "\n",
        "# Group by country and calculate the total deaths\n",
        "total_deaths_per_country = latest_deaths.groupby('Country/Region')['Deaths'].sum().reset_index()\n",
        "\n",
        "# Sort the result in descending order of total deaths\n",
        "total_deaths_per_country = total_deaths_per_country.sort_values(by='Deaths', ascending=False)\n",
        "\n",
        "# Display the top 10 countries\n",
        "print(\"\\nTop 10 Countries by Total Deaths (as of\", latest_date, \"):\")\n",
        "print(total_deaths_per_country.head(10))"
      ],
      "metadata": {
        "colab": {
          "base_uri": "https://localhost:8080/"
        },
        "id": "TQuZ5advySYT",
        "outputId": "fac5946d-c63c-415c-e387-519ff42066da"
      },
      "execution_count": 401,
      "outputs": [
        {
          "output_type": "stream",
          "name": "stdout",
          "text": [
            "\n",
            "Top 10 Countries by Total Deaths (as of 9/9/20 ):\n",
            "     Country/Region     Deaths\n",
            "38          Column2  Column257\n",
            "162         Somalia         99\n",
            "81            India      98678\n",
            "11          Bahamas         96\n",
            "7           Armenia        959\n",
            "68          Germany       9495\n",
            "134            Oman        935\n",
            "84             Iraq       9181\n",
            "42       Costa Rica        904\n",
            "44   Country/Region    9/30/20\n"
          ]
        }
      ]
    },
    {
      "cell_type": "markdown",
      "source": [
        "Q6.3: What are the top 5 countries with the highest average daily deaths?"
      ],
      "metadata": {
        "id": "eiRArzfgLa8n"
      }
    },
    {
      "cell_type": "code",
      "source": [
        "# Define expected column names\n",
        "columns = [\n",
        "    'Province/State', 'Country/Region', 'Lat', 'Long'\n",
        "] + [f\"{m}/{d}/{y}\" for y in [20, 21] for m in range(1, 13) for d in range(1, 32)\n",
        "     if (y == 20 or (y == 21 and m <= 5)) and\n",
        "        not ((m == 2 and d > 29) or (m in [4,6,9,11] and d > 30))]\n",
        "\n",
        "columns = columns[:498]  # Adjust based on your dataset size\n",
        "\n",
        "# Load the dataset with proper headers\n",
        "deaths_df = pd.read_csv('covid_19_deaths_v1.csv', header=None, names=columns)\n",
        "\n",
        "# Drop irrelevant columns\n",
        "deaths = deaths_df.drop(['Lat', 'Long'], axis=1)\n",
        "\n",
        "# Identify date columns\n",
        "date_cols = deaths.columns[2:]\n",
        "\n",
        "for col in date_cols:\n",
        "    deaths[col] = pd.to_numeric(deaths[col], errors='coerce')\n",
        "\n",
        "deaths[date_cols] = deaths[date_cols].fillna(0).astype(int)\n",
        "\n",
        "deaths_long = deaths.melt(\n",
        "    id_vars=['Province/State', 'Country/Region'],\n",
        "    value_vars=date_cols,\n",
        "    var_name='Date',\n",
        "    value_name='Cumulative_Deaths'\n",
        ")\n",
        "\n",
        "\n",
        "\n",
        "deaths_long['Daily_New_Deaths'] = (\n",
        "    deaths_long.groupby('Country/Region')['Cumulative_Deaths']\n",
        "    .diff()\n",
        "    .fillna(0)\n",
        "    .astype(int)\n",
        ")\n",
        "print(deaths_long[['Country/Region', 'Date', 'Cumulative_Deaths', 'Daily_New_Deaths']].head())\n",
        "\n"
      ],
      "metadata": {
        "colab": {
          "base_uri": "https://localhost:8080/"
        },
        "id": "wxc4df71yVS5",
        "outputId": "6ccb420f-6896-4513-bffd-e9ff796d30fb"
      },
      "execution_count": 402,
      "outputs": [
        {
          "output_type": "stream",
          "name": "stdout",
          "text": [
            "   Country/Region    Date  Cumulative_Deaths  Daily_New_Deaths\n",
            "0         Column2  1/1/20                  0                 0\n",
            "1  Country/Region  1/1/20                  0                 0\n",
            "2     Afghanistan  1/1/20                  0                 0\n",
            "3         Albania  1/1/20                  0                 0\n",
            "4         Algeria  1/1/20                  0                 0\n"
          ]
        }
      ]
    },
    {
      "cell_type": "markdown",
      "source": [
        "Q6.4: How have the total deaths evolved over time in the United States?"
      ],
      "metadata": {
        "id": "QKRUxLjHLfIB"
      }
    },
    {
      "cell_type": "code",
      "source": [
        "# Define Column Names\n",
        "columns = [\n",
        "    'Province/State', 'Country/Region', 'Lat', 'Long'\n",
        "] + [f\"{m}/{d}/{y}\" for y in [20, 21] for m in range(1, 13) for d in range(1, 32)\n",
        "     if (y == 20 or (y == 21 and m <= 5)) and\n",
        "        not ((m == 2 and d > 29) or (m in [4,6,9,11] and d > 30))]\n",
        "\n",
        "columns = columns[:498]\n",
        "\n",
        "# Load Dataset\n",
        "deaths_df = pd.read_csv('covid_19_deaths_v1.csv', header=None, names=columns)\n",
        "\n",
        "# Drop Unnecessary Columns\n",
        "deaths_df = deaths_df.drop(['Lat', 'Long'], axis=1)\n",
        "\n",
        "# Convert Date Columns to Numeric\n",
        "date_cols = deaths_df.columns[2:]\n",
        "deaths_df[date_cols] = deaths_df[date_cols].apply(pd.to_numeric, errors='coerce').fillna(0).astype(int)\n",
        "\n",
        "# Melt to Long Format\n",
        "deaths_long = deaths_df.melt(\n",
        "    id_vars=['Province/State', 'Country/Region'],\n",
        "    value_vars=date_cols,\n",
        "    var_name='Date',\n",
        "    value_name='Deaths'\n",
        ")\n",
        "\n",
        "\n",
        "# Compute Daily Deaths\n",
        "deaths_long['Daily_Deaths'] = deaths_long.groupby('Country/Region')['Deaths'].diff().fillna(0).astype(int)\n",
        "\n",
        "# Filter for US Data\n",
        "us_data = deaths_long[deaths_long['Country/Region'] == 'US']\n",
        "\n",
        "# Plot Cumulative Deaths Over Time\n",
        "plt.figure(figsize=(12, 6))\n",
        "plt.plot(us_data['Date'], us_data['Deaths'], color='red')\n",
        "plt.title(\"Cumulative Deaths Over Time in the United States\")\n",
        "plt.xlabel(\"Date\")\n",
        "plt.ylabel(\"Total Deaths\")\n",
        "plt.xticks(rotation=45)\n",
        "plt.grid(True)\n",
        "plt.tight_layout()\n",
        "plt.show()"
      ],
      "metadata": {
        "colab": {
          "base_uri": "https://localhost:8080/",
          "height": 522
        },
        "id": "vfHuWUCMyaE3",
        "outputId": "29948e1a-95a5-477f-e047-826b028df746"
      },
      "execution_count": 403,
      "outputs": [
        {
          "output_type": "display_data",
          "data": {
            "text/plain": [
              "<Figure size 1200x600 with 1 Axes>"
            ],
            "image/png": "[encoded data removed]"
          },
          "metadata": {}
        }
      ]
    },
    {
      "cell_type": "markdown",
      "source": [
        "Question 7: Data Merging"
      ],
      "metadata": {
        "id": "br5rIUkI3xao"
      }
    },
    {
      "cell_type": "markdown",
      "source": [
        "Q7.1: How would you merge the transformed datasets of confirmed cases, deaths, and recoveries on the 'Country/Region' and 'Date' columns to create a comprehensive view of the pandemic's impact?"
      ],
      "metadata": {
        "id": "iBdBBLG2Ls-k"
      }
    },
    {
      "cell_type": "code",
      "source": [
        "# Helper function to generate date columns\n",
        "def generate_date_columns():\n",
        "    date_cols = []\n",
        "    for year in [20, 21]:  # 2020 and 2021\n",
        "        for month in range(1, 13):\n",
        "            if year == 21 and month > 5:\n",
        "                break  # Stop at May 2021\n",
        "            for day in range(1, 32):\n",
        "                if (month == 2 and day > 29) or (month in [4, 6, 9, 11] and day > 30):\n",
        "                    continue  # Skip invalid dates\n",
        "                date_cols.append(f\"{month}/{day}/{year}\")\n",
        "    return date_cols[:494]  # Total number of date columns\n",
        "\n",
        "# Define column names\n",
        "columns = ['Province/State', 'Country/Region', 'Lat', 'Long'] + generate_date_columns()\n",
        "\n",
        "# Function to load and transform a dataset\n",
        "def transform_dataset(file_path, file_type='confirmed'):\n",
        "    # Load the dataset with custom column names\n",
        "    df = pd.read_csv(file_path, header=None, names=columns)\n",
        "\n",
        "    # Convert date columns to numeric\n",
        "    date_cols = df.columns[4:]\n",
        "    df[date_cols] = df[date_cols].apply(pd.to_numeric, errors='coerce').fillna(0).astype(int)\n",
        "\n",
        "    # Melt the DataFrame to long format\n",
        "    melted = df.melt(\n",
        "        id_vars=['Province/State', 'Country/Region'],\n",
        "        value_vars=date_cols,\n",
        "        var_name='Date',\n",
        "        value_name=file_type.capitalize()\n",
        "    )\n",
        "\n",
        "    # Convert 'Date' to datetime (handle invalid formats gracefully)\n",
        "    melted['Date'] = pd.to_datetime(melted['Date'], errors='coerce')\n",
        "    melted.dropna(subset=['Date'], inplace=True)  # Remove rows with invalid dates\n",
        "\n",
        "    # Drop rows with NaN values in the target column\n",
        "    melted.dropna(subset=[f'{file_type.capitalize()}'], inplace=True)\n",
        "\n",
        "    return melted\n",
        "\n",
        "# Transform each dataset\n",
        "confirmed_df = transform_dataset('covid_19_confirmed_v1.csv', 'confirmed')\n",
        "deaths_df = transform_dataset('covid_19_deaths_v1.csv', 'deaths')\n",
        "recovered_df = transform_dataset('covid_19_recovered_v1.csv', 'recovered')\n",
        "\n",
        "# Merge the three datasets on 'Country/Region' and 'Date'\n",
        "merged_df = confirmed_df.merge(deaths_df, on=['Country/Region', 'Date'], how='outer')\n",
        "merged_df = merged_df.merge(recovered_df, on=['Country/Region', 'Date'], how='outer')\n",
        "\n",
        "# Fill missing values with 0\n",
        "merged_df[['Confirmed', 'Deaths', 'Recovered']] = merged_df[['Confirmed', 'Deaths', 'Recovered']].fillna(0).astype(int)\n",
        "\n",
        "# Add a 'Month' column for easier analysis\n",
        "merged_df['Month'] = merged_df['Date'].dt.to_period('M')\n",
        "\n",
        "# Display the first few rows of the merged dataset\n",
        "print(\"Merged Dataset (First 5 Rows):\")\n",
        "print(merged_df.head())\n",
        "\n",
        "\n",
        "# Save to a new CSV\n",
        "merged_df.to_csv('combined.csv', index=False)\n",
        "\n",
        "print(\"Files combined successfully into 'combined.csv'\")\n"
      ],
      "metadata": {
        "id": "ASD88QmZJQ8G"
      },
      "execution_count": null,
      "outputs": []
    },
    {
      "cell_type": "markdown",
      "source": [
        "Q7.2: Analyze the monthly sum of confirmed cases, deaths, and recoveries for countries to understand the progression of the pandemic.[From the merged dataset]"
      ],
      "metadata": {
        "id": "ZXyc_xuUL_c5"
      }
    },
    {
      "cell_type": "code",
      "source": [
        "# Convert Date column to datetime objects\n",
        "merged['Date'] = pd.to_datetime(merged['Date'])\n",
        "\n",
        "# Extract month and year for grouping\n",
        "merged['YearMonth'] = merged['Date'].dt.to_period('M')\n",
        "\n",
        "# Group by country and YearMonth, and sum the cases\n",
        "monthly_summary = merged.groupby(['Country', 'YearMonth']).agg({\n",
        "    'Confirmed': 'sum',\n",
        "    'Deaths': 'sum',\n",
        "    'Recovered': 'sum'\n",
        "}).reset_index()\n",
        "\n",
        "# Convert YearMonth back to string or datetime if needed for display/plotting\n",
        "monthly_summary['YearMonth'] = monthly_summary['YearMonth'].astype(str)\n",
        "\n",
        "print(\"Monthly summary of cases, deaths, and recoveries by country:\")\n",
        "print(monthly_summary.head())\n",
        "\n",
        "# Example: Plot monthly progression for a specific country (e.g., United States)\n",
        "country_to_plot = 'US'\n",
        "us_monthly = monthly_summary[monthly_summary['Country'] == country_to_plot]\n",
        "\n",
        "if not us_monthly.empty:\n",
        "    plt.figure(figsize=(15, 7))\n",
        "    plt.plot(us_monthly['YearMonth'], us_monthly['Confirmed'], label='Confirmed', marker='o')\n",
        "    plt.plot(us_monthly['YearMonth'], us_monthly['Deaths'], label='Deaths', marker='o')\n",
        "    plt.plot(us_monthly['YearMonth'], us_monthly['Recovered'], label='Recovered', marker='o')\n",
        "\n",
        "    plt.title(f'Monthly Progression of COVID-19 Cases in {country_to_plot}')\n",
        "    plt.xlabel('Month')\n",
        "    plt.ylabel('Sum of Cases')\n",
        "    plt.xticks(rotation=45)\n",
        "    plt.legend()\n",
        "    plt.grid(True)\n",
        "    plt.tight_layout()\n",
        "    plt.show()\n",
        "else:\n",
        "    print(f\"Data for {country_to_plot} not found in the merged dataset.\")"
      ],
      "metadata": {
        "id": "3jGjA5bi36pW"
      },
      "execution_count": null,
      "outputs": []
    },
    {
      "cell_type": "markdown",
      "source": [
        "Q7.3: Redo the analysis in Question 7.2 for the United States, Italy, and Brazil."
      ],
      "metadata": {
        "id": "KK2hrAjvMH6N"
      }
    },
    {
      "cell_type": "code",
      "source": [
        "# Helper function to generate date columns\n",
        "def generate_date_columns():\n",
        "    date_cols = []\n",
        "    for year in [20, 21]:  # For years 2020 and 2021\n",
        "        for month in range(1, 13):  # Months 1 to 12\n",
        "            if year == 21 and month > 5:  # Stop at May 2021\n",
        "                break\n",
        "            for day in range(1, 32):  # Days 1 to 31\n",
        "                if (month == 2 and day > 29) or (month in [4, 6, 9, 11] and day > 30):  # Handle leap year and short months\n",
        "                    continue\n",
        "                date_cols.append(f\"{month}/{day}/{year}\")\n",
        "    return date_cols[:494]  # Limit to 494 days (from 1/22/20 to 5/29/21)\n",
        "\n",
        "# Load raw datasets\n",
        "confirmed_df = pd.read_csv('covid_19_confirmed_v1.csv', header=None, names=['Province/State', 'Country/Region', 'Lat', 'Long'] + generate_date_columns())\n",
        "deaths_df = pd.read_csv('covid_19_deaths_v1.csv', header=None, names=['Province/State', 'Country/Region', 'Lat', 'Long'] + generate_date_columns())\n",
        "recovered_df = pd.read_csv('covid_19_recovered_v1.csv', header=None, names=['Province/State', 'Country/Region', 'Lat', 'Long'] + generate_date_columns())\n",
        "\n",
        "# Function to transform datasets into long format\n",
        "def transform(df, metric_name):\n",
        "    df = df[['Country/Region'] + generate_date_columns()].copy()  # Select relevant columns\n",
        "    date_cols = generate_date_columns()\n",
        "    df[date_cols] = df[date_cols].apply(pd.to_numeric, errors='coerce').fillna(0).astype(int)  # Convert date columns to integers\n",
        "    melted = df.melt(id_vars=['Country/Region'], value_vars=date_cols, var_name='Date', value_name=metric_name)  # Melt into long format\n",
        "    # melted['Date'] = pd.to_datetime(melted['Date'], format='%m/%d/%y')  # Parse dates\n",
        "    return melted\n",
        "\n",
        "# Transform each dataset\n",
        "confirmed_long = transform(confirmed_df, 'Confirmed')\n",
        "deaths_long = transform(deaths_df, 'Deaths')\n",
        "recovered_long = transform(recovered_df, 'Recovered')\n",
        "\n",
        "# Merge datasets\n",
        "merged = pd.merge(confirmed_long, deaths_long, on=['Country/Region', 'Date'], how='outer')\n",
        "merged = pd.merge(merged, recovered_long, on=['Country/Region', 'Date'], how='outer')\n",
        "merged[['Confirmed', 'Deaths', 'Recovered']] = merged[['Confirmed', 'Deaths', 'Recovered']].fillna(0).astype(int)\n",
        "\n",
        "# Add Month column\n",
        "# merged['Month'] = merged['Date'].dt.to_period('M').astype(str)\n",
        "\n",
        "# Group by Country and Month\n",
        "# monthly_data = merged.groupby(['Country/Region', 'Month'])[['Confirmed', 'Deaths', 'Recovered']].sum().reset_index()\n",
        "\n",
        "# Rename columns for clarity\n",
        "# monthly_data = monthly_data.rename(columns={'Country/Region': 'Country'})\n"
      ],
      "metadata": {
        "id": "k9UYIrZpSAUG"
      },
      "execution_count": null,
      "outputs": []
    },
    {
      "cell_type": "markdown",
      "source": [
        "Question 8: Combined Data Analysis"
      ],
      "metadata": {
        "id": "kSWfGCBA_47R"
      }
    },
    {
      "cell_type": "markdown",
      "source": [
        "Q8.1: For the combined dataset, identify the three countries with the highest average death rates (deaths/confirmed cases) throughout 2020. What might this indicate about the pandemic's impact in these countries?"
      ],
      "metadata": {
        "id": "XfFlr_Z6MNFu"
      }
    },
    {
      "cell_type": "code",
      "source": [
        "# Load the dataset\n",
        "merged_df = pd.read_csv('/content/merged_covid_data.csv')\n",
        "\n",
        "# Filter for 2020 data\n",
        "merged_2020 = merged_df[merged_df['Date'] < '2021-01-01']\n",
        "\n",
        "# Aggregate confirmed cases and deaths by country\n",
        "country_totals = merged_2020.groupby('Country/Region')[['Confirmed', 'Deaths']].sum().reset_index()\n",
        "\n",
        "# Calculate death rate\n",
        "country_totals['Death_Rate'] = country_totals['Deaths'] / country_totals['Confirmed']\n",
        "\n",
        "\n",
        "top_death_rate_countries = country_totals.sort_values(by='Death_Rate', ascending=False).head(3)\n",
        "\n",
        "\n",
        "\n",
        "plt.figure(figsize=(10, 6))\n",
        "plt.bar(top_death_rate_countries['Country/Region'], top_death_rate_countries['Death_Rate'] * 100, color=['red', 'orange', 'blue'])\n",
        "plt.title(\"Top 3 Countries by Death Rate (2020)\")\n",
        "plt.ylabel(\"Death Rate (%)\")\n",
        "plt.xlabel(\"Country\")\n",
        "plt.grid(axis='y', linestyle='--', alpha=0.7)\n",
        "plt.tight_layout()\n",
        "plt.show()"
      ],
      "metadata": {
        "id": "B5BHH3M5SL2-"
      },
      "execution_count": null,
      "outputs": []
    },
    {
      "cell_type": "markdown",
      "source": [
        "Q8.2: Using the merged dataset, compare the total number of recoveries to the total number of deaths in South Africa. What can this tell us about the outcomes of COVID-19 cases in the country?"
      ],
      "metadata": {
        "id": "ouOpaP5ZMPks"
      }
    },
    {
      "cell_type": "code",
      "source": [
        "import pandas as pd\n",
        "\n",
        "# Helper function to generate date columns\n",
        "def generate_date_columns():\n",
        "    date_cols = []\n",
        "    for y in [20, 21]:  # 2020 and 2021\n",
        "        for m in range(1, 13):\n",
        "            if y == 21 and m > 5:  # Stop at June 2021\n",
        "                break\n",
        "            for d in range(1, 32):\n",
        "                if (m == 2 and d > 29) or (m in [4, 6, 9, 11] and d > 30):\n",
        "                    continue\n",
        "                date_cols.append(f\"{m}/{d}/{y}\")\n",
        "    return date_cols[:494]\n",
        "\n",
        "# Define columns\n",
        "date_columns = generate_date_columns()\n",
        "columns = ['Province/State', 'Country/Region', 'Lat', 'Long'] + date_columns\n",
        "\n",
        "# Load datasets\n",
        "confirmed_df = pd.read_csv('covid_19_confirmed_v1.csv', header=None, names=columns)\n",
        "deaths_df = pd.read_csv('covid_19_deaths_v1.csv', header=None, names=columns)\n",
        "recovered_df = pd.read_csv('covid_19_recovered_v1.csv', header=None, names=columns)\n",
        "\n",
        "# Function to transform each dataset\n",
        "def transform(df, metric_name, date_cols):\n",
        "    df = df[['Country/Region'] + date_cols].copy()\n",
        "    df[date_cols] = df[date_cols].apply(pd.to_numeric, errors='coerce').fillna(0).astype(int)\n",
        "    melted = df.melt(\n",
        "        id_vars=['Country/Region'],\n",
        "        value_vars=date_cols,\n",
        "        var_name='Date',\n",
        "        value_name=metric_name\n",
        "    )\n",
        "    melted['Date'] = pd.to_datetime(melted['Date'], format='%m/%d/%y', errors='coerce')\n",
        "    return melted\n",
        "\n",
        "# Transform datasets\n",
        "confirmed_long = transform(confirmed_df, 'Confirmed', date_columns)\n",
        "deaths_long = transform(deaths_df, 'Deaths', date_columns)\n",
        "recovered_long = transform(recovered_df, 'Recovered', date_columns)\n",
        "\n",
        "# Merge all\n",
        "merged = confirmed_long.merge(deaths_long, on=['Country/Region', 'Date'], how='outer')\n",
        "merged = merged.merge(recovered_long, on=['Country/Region', 'Date'], how='outer')\n",
        "\n",
        "# Fill missing values\n",
        "merged[['Confirmed', 'Deaths', 'Recovered']] = merged[['Confirmed', 'Deaths', 'Recovered']].fillna(0).astype(int)\n",
        "\n",
        "# Check result\n",
        "print(type(merged))\n",
        "print(merged.head())\n"
      ],
      "metadata": {
        "colab": {
          "base_uri": "https://localhost:8080/"
        },
        "id": "-bVlB4e8SrRy",
        "outputId": "2e96b1e5-61a1-4c25-ac64-950735c5f701"
      },
      "execution_count": 10,
      "outputs": [
        {
          "output_type": "stream",
          "name": "stdout",
          "text": [
            "<class 'pandas.core.frame.DataFrame'>\n",
            "  Country/Region       Date  Confirmed  Deaths  Recovered\n",
            "0    Afghanistan        NaT      56153    2464      49743\n",
            "1    Afghanistan 2020-01-01          0       0          0\n",
            "2    Afghanistan 2020-01-02          0       0          0\n",
            "3    Afghanistan 2020-01-03          0       0          0\n",
            "4    Afghanistan 2020-01-04          0       0          0\n"
          ]
        }
      ]
    },
    {
      "cell_type": "markdown",
      "source": [
        "Q8.3: Analyze the ratio of recoveries to confirmed cases for the United States monthly from March 2020 to May 2021. Which month experienced the highest recovery ratio, and what could be the potential reasons?"
      ],
      "metadata": {
        "id": "hVLQhrsaMRwN"
      }
    },
    {
      "cell_type": "code",
      "source": [
        "import pandas as pd\n",
        "\n",
        "# Filter for United States data between March 2020 and May 2021\n",
        "us_data = merged[\n",
        "    (merged['Country/Region'] == 'US') &\n",
        "    (merged['Date'] >= '2020-03-01') &\n",
        "    (merged['Date'] <= '2021-05-31')\n",
        "]\n",
        "\n",
        "# Add Month column\n",
        "us_data['Month'] = us_data['Date'].dt.to_period('M').astype(str)\n",
        "\n",
        "# Group by month and compute cumulative totals\n",
        "monthly_us = us_data.groupby('Month').agg(\n",
        "    Total_Confirmed=('Confirmed', 'last'),\n",
        "    Total_Recovered=('Recovered', 'last')\n",
        ").reset_index()\n",
        "\n",
        "# Compute recovery ratio\n",
        "monthly_us['Recovery_Ratio'] = monthly_us['Total_Recovered'] / monthly_us['Total_Confirmed']\n",
        "monthly_us['Recovery_Ratio'] = monthly_us['Recovery_Ratio'].replace([float('inf'), float('-inf')], None)  # Handle division by zero\n",
        "\n",
        "# Find the month with the highest recovery ratio\n",
        "best_month = monthly_us.loc[monthly_us['Recovery_Ratio'].idxmax()]\n",
        "\n",
        "# Print results\n",
        "print(\"\\nUnited States - Monthly Recovery Ratios (Mar 2020 - May 2021):\")\n",
        "print(monthly_us)\n",
        "print(f\"\\nMonth with Highest Recovery Ratio: {best_month['Month']} - {best_month['Recovery_Ratio']:.4f}\")"
      ],
      "metadata": {
        "colab": {
          "base_uri": "https://localhost:8080/"
        },
        "id": "dyiYdL8CTAeu",
        "outputId": "de794eff-4a3b-4cd7-8022-de5dfc65d1bc"
      },
      "execution_count": 11,
      "outputs": [
        {
          "output_type": "stream",
          "name": "stdout",
          "text": [
            "\n",
            "United States - Monthly Recovery Ratios (Mar 2020 - May 2021):\n",
            "      Month  Total_Confirmed  Total_Recovered  Recovery_Ratio\n",
            "0   2020-03           825429            75204        0.091109\n",
            "1   2020-04          1587596           298418        0.187968\n",
            "2   2020-05          2280971           622133        0.272749\n",
            "3   2020-06          3904066          1182018        0.302766\n",
            "4   2020-07          5622842          1965056        0.349477\n",
            "5   2020-08          6862834          2615949        0.381176\n",
            "6   2020-09          8358864          3323354        0.397584\n",
            "7   2020-10         12213451          4529700        0.370878\n",
            "8   2020-11         18153724                0        0.000000\n",
            "9   2020-12         24711684                0        0.000000\n",
            "10  2021-01         28174750                0        0.000000\n",
            "11  2021-02         29821754                0        0.000000\n",
            "12  2021-03         31929351                0        0.000000\n",
            "13  2021-04         33104884                0        0.000000\n",
            "14  2021-05         33251939                0        0.000000\n",
            "\n",
            "Month with Highest Recovery Ratio: 2020-09 - 0.3976\n"
          ]
        },
        {
          "output_type": "stream",
          "name": "stderr",
          "text": [
            "<ipython-input-11-62077a16f6b4>:11: SettingWithCopyWarning: \n",
            "A value is trying to be set on a copy of a slice from a DataFrame.\n",
            "Try using .loc[row_indexer,col_indexer] = value instead\n",
            "\n",
            "See the caveats in the documentation: https://pandas.pydata.org/pandas-docs/stable/user_guide/indexing.html#returning-a-view-versus-a-copy\n",
            "  us_data['Month'] = us_data['Date'].dt.to_period('M').astype(str)\n"
          ]
        }
      ]
    },
    {
      "cell_type": "code",
      "source": [],
      "metadata": {
        "id": "3G062qQPUX4a"
      },
      "execution_count": null,
      "outputs": []
    }
  ]
}